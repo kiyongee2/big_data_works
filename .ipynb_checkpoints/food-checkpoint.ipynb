{
 "cells": [
  {
   "cell_type": "code",
   "execution_count": 3,
   "id": "42a694c6-0280-4013-91a3-561f8e0243b8",
   "metadata": {},
   "outputs": [
    {
     "name": "stdout",
     "output_type": "stream",
     "text": [
      "장금\n",
      "요리하다\n"
     ]
    }
   ],
   "source": [
    "# 모듈 만들기\n",
    "name = \"장금\"\n",
    "\n",
    "def cook():\n",
    "    print(\"요리하다\")\n",
    "\n",
    "def eat():\n",
    "    print(\"먹는다\")\n",
    "\n",
    "# print(name)\n",
    "# cook()"
   ]
  }
 ],
 "metadata": {
  "kernelspec": {
   "display_name": "Python 3 (ipykernel)",
   "language": "python",
   "name": "python3"
  },
  "language_info": {
   "codemirror_mode": {
    "name": "ipython",
    "version": 3
   },
   "file_extension": ".py",
   "mimetype": "text/x-python",
   "name": "python",
   "nbconvert_exporter": "python",
   "pygments_lexer": "ipython3",
   "version": "3.12.7"
  }
 },
 "nbformat": 4,
 "nbformat_minor": 5
}
