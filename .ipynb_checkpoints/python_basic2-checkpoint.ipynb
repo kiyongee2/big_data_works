{
 "cells": [
  {
   "cell_type": "markdown",
   "id": "58b36f84-31cd-4a9f-a47b-73b524149e39",
   "metadata": {},
   "source": [
    "### 반복문(for문)"
   ]
  },
  {
   "cell_type": "code",
   "execution_count": 48,
   "id": "7aad5e1e-d6cd-487c-b6a7-ae24b3407a6e",
   "metadata": {},
   "outputs": [
    {
     "name": "stdout",
     "output_type": "stream",
     "text": [
      "True\n",
      "False\n",
      "사과\n",
      "바나나\n",
      "감\n",
      "[2, 4, 6, 8, 10, 12, 14, 16, 18, 20]\n"
     ]
    }
   ],
   "source": [
    "# range()\n",
    "range(1, 10)\n",
    "list(range(1, 10))  #시작인덱스, 끝 인덱스(번호-1)\n",
    "list(range(10)) # 시작인덱스가 없으면 0부터 시작함\n",
    "\n",
    "# for i in range(1, 11):\n",
    "#     print(\"Hi~\", i)\n",
    "\n",
    "# 1 ~ 10까지 출력\n",
    "# for i in range(1, 11): # 2 - 간격(step)\n",
    "#     print(i)\n",
    "\n",
    "# for ~ in 리스트\n",
    "word = [\"사과\", \"바나나\", \"감\"]\n",
    "print(\"사과\" in word)\n",
    "print(\"딸기\" in word)\n",
    "\n",
    "for i in word:\n",
    "    print(i)\n",
    "\n",
    "# 리스트 : 1 ~ 10 저장\n",
    "number = []\n",
    "for i in range(1, 11):\n",
    "    number.append(i * 2)\n",
    "    \n",
    "print(number)"
   ]
  },
  {
   "cell_type": "markdown",
   "id": "2248266b-b1a4-403a-aaaf-e454dcb1302c",
   "metadata": {},
   "source": [
    "### 딕셔너리\n",
    "키(key)와 값(value)으로 이루어진 자료형<br>\n",
    "순서가 없음. 키를 사용해서 값에 접근한다.\n",
    "{ }(중괄호) 사용"
   ]
  },
  {
   "cell_type": "code",
   "execution_count": 76,
   "id": "92537c7c-ba4b-4f73-ac3a-a595c004130c",
   "metadata": {},
   "outputs": [
    {
     "name": "stdout",
     "output_type": "stream",
     "text": [
      "{'name': '쿠키', 'level': 5}\n",
      "dict_keys(['name', 'level'])\n",
      "dict_values(['쿠키', 5])\n",
      "{'name': '쿠키', 'level': 5, 'id': 'cookie'}\n",
      "{'name': 'Jerry', 'level': 5, 'id': 'cookie'}\n",
      "{'name': 'Jerry', 'id': 'cookie'}\n"
     ]
    }
   ],
   "source": [
    "dictbox = {\n",
    "    \"name\": \"쿠키\", \n",
    "    \"level\": 5\n",
    "}\n",
    "\n",
    "print(dictbox)\n",
    "type(dictbox)\n",
    "\n",
    "# 키, 값\n",
    "print(dictbox.keys())\n",
    "print(dictbox.values())\n",
    "\n",
    "# 값 조회(접근)\n",
    "dictbox['name']\n",
    "dictbox['level']\n",
    "\n",
    "# 값 추가\n",
    "dictbox['id'] = \"cookie\"\n",
    "print(dictbox)\n",
    "\n",
    "# 값 변경\n",
    "dictbox['name'] = \"Jerry\"\n",
    "print(dictbox)\n",
    "\n",
    "# 값 삭제\n",
    "del dictbox['level']\n",
    "print(dictbox)"
   ]
  },
  {
   "cell_type": "code",
   "execution_count": 88,
   "id": "81e260f3-acb4-4c0c-bddb-23370d14117f",
   "metadata": {},
   "outputs": [
    {
     "name": "stdout",
     "output_type": "stream",
     "text": [
      "{'요리': ['분식', '한식', '중식'], '점포수': [4, 5, 2]}\n",
      "한식\n",
      "5\n"
     ]
    }
   ],
   "source": [
    "# 딕셔너리(값이 여러개 - 리스트와 연동)\n",
    "cook = [\"분식\", \"한식\", \"중식\"]\n",
    "number = [4, 5, 2]\n",
    "\n",
    "store = {\n",
    "    \"요리\" : cook,\n",
    "    \"점포수\": number\n",
    "}\n",
    "print(store)\n",
    "\n",
    "# 한식에 접근(조회)\n",
    "print(store[\"요리\"][1])\n",
    "\n",
    "# 한식의 점포 수\n",
    "print(store[\"점포수\"][1])"
   ]
  },
  {
   "cell_type": "code",
   "execution_count": 102,
   "id": "c8796ff8-0e2b-48c8-90e3-a6b3d005c16d",
   "metadata": {},
   "outputs": [
    {
     "name": "stdout",
     "output_type": "stream",
     "text": [
      "[2, 4, 6]\n",
      "[2, 4, 6]\n",
      "[6, 8, 10]\n",
      "[2, 4, 6, 8, 10]\n",
      "[2, 4, 6, 8]\n",
      "[2, 8]\n"
     ]
    }
   ],
   "source": [
    "# 인덱싱과 슬라이싱\n",
    "number = [2, 4, 6, 8, 10]\n",
    "\n",
    "print(number[0:3])  #0, 1, 2번 \n",
    "print(number[:3]) # 0은 생략 가능함\n",
    "print(number[2:])\n",
    "print(number[:])\n",
    "\n",
    "print(number[:-1])\n",
    "print(number[::3]) #세번째 인자(step-간격)"
   ]
  },
  {
   "cell_type": "markdown",
   "id": "0c14901d-af7d-4028-8969-797211ee82b4",
   "metadata": {},
   "source": [
    "### 튜플\n",
    "여러개의 자료를 저장하는 자료형(구조)<br>\n",
    "요소를 수정하거나 삭제할 수 없다.<br>\n",
    "접근(조회)는 가능"
   ]
  },
  {
   "cell_type": "code",
   "execution_count": 135,
   "id": "eb1433d4-f4d8-4eac-9fe5-e5810adb5124",
   "metadata": {},
   "outputs": [
    {
     "name": "stdout",
     "output_type": "stream",
     "text": [
      "(1, 2, 3)\n",
      "<class 'tuple'>\n",
      "1\n",
      "(3,)\n",
      "<class 'tuple'>\n"
     ]
    }
   ],
   "source": [
    "a = (1, 2, 3)\n",
    "print(a)\n",
    "print(type(a))\n",
    "\n",
    "# 특정값 조회\n",
    "print(a[0])\n",
    "\n",
    "# 수정 안됨\n",
    "# a[0] = 4\n",
    "\n",
    "# 요소가 1개일때는 콤머를 사용함\n",
    "b = (3,)\n",
    "print(b)\n",
    "print(type(b))"
   ]
  },
  {
   "cell_type": "code",
   "execution_count": 19,
   "id": "d3532250-782a-409a-8f95-616361e6a518",
   "metadata": {},
   "outputs": [
    {
     "name": "stdout",
     "output_type": "stream",
     "text": [
      "칼럼: age\n",
      "칼럼:10\n",
      "칼럼: age\n",
      "숫자: 10\n"
     ]
    }
   ],
   "source": [
    "column = \"age\"\n",
    "number = 10\n",
    "\n",
    "#1 인자 2개\n",
    "print(\"칼럼:\", column)\n",
    "\n",
    "#2. + 연결 연산자 \n",
    "print(\"칼럼:\" + str(number))\n",
    "\n",
    "# f포맷 방식\n",
    "print(f\"칼럼: {column}\")\n",
    "print(f\"숫자: {number}\")"
   ]
  },
  {
   "cell_type": "code",
   "execution_count": 35,
   "id": "17014922-a9de-44b5-b84f-98aef4fdbace",
   "metadata": {},
   "outputs": [
    {
     "name": "stdout",
     "output_type": "stream",
     "text": [
      "개수: 4\n",
      "개수: 4\n",
      "합계: 22\n",
      "최대값: 10\n",
      "최대값: 2\n",
      "5.5\n"
     ]
    }
   ],
   "source": [
    "# 내장 함수\n",
    "# len(), sum(), max(), min(), int(), str()\n",
    "\n",
    "number = [4, 2, 10, 6]\n",
    "print(f'개수: {len(number)}')\n",
    "print(\"개수:\", len(number))\n",
    "\n",
    "print(f'합계: {sum(number)}')\n",
    "print(f'최대값: {max(number)}')\n",
    "print(f'최대값: {min(number)}')\n",
    "\n",
    "# 평균 = 합계 / 개수\n",
    "avg = sum(number) / len(number)\n",
    "print(avg)"
   ]
  }
 ],
 "metadata": {
  "kernelspec": {
   "display_name": "Python 3 (ipykernel)",
   "language": "python",
   "name": "python3"
  },
  "language_info": {
   "codemirror_mode": {
    "name": "ipython",
    "version": 3
   },
   "file_extension": ".py",
   "mimetype": "text/x-python",
   "name": "python",
   "nbconvert_exporter": "python",
   "pygments_lexer": "ipython3",
   "version": "3.12.7"
  }
 },
 "nbformat": 4,
 "nbformat_minor": 5
}
