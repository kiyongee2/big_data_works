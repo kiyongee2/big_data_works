{
 "cells": [
  {
   "cell_type": "markdown",
   "id": "88781cc4-75e1-4e59-8b3f-dce9381e8643",
   "metadata": {},
   "source": [
    "### 넘파이(numpy)\n",
    "다차원 배열(행렬)을 쉽게 처리하고 효율적으로 사용할 수 있도록 지원하는 파이썬 라이브러리임<br>\n",
    "수치 해석, 통계 관련 기능을 구현할 때 기본이 되는 모듈임<br>\n",
    "Numerical Python의 줄임말임"
   ]
  },
  {
   "cell_type": "code",
   "execution_count": 4,
   "id": "45042924-7db7-4a8a-9da4-84076592981b",
   "metadata": {},
   "outputs": [
    {
     "name": "stdout",
     "output_type": "stream",
     "text": [
      "Requirement already satisfied: numpy in c:\\users\\admin\\anaconda3\\lib\\site-packages (1.26.4)\n"
     ]
    }
   ],
   "source": [
    "!pip install numpy"
   ]
  },
  {
   "cell_type": "code",
   "execution_count": 32,
   "id": "93fa36c8-c04d-49c0-bb1e-15621a231af7",
   "metadata": {},
   "outputs": [
    {
     "name": "stdout",
     "output_type": "stream",
     "text": [
      "[ 0  1  2  3  4  5  6  7  8  9 10 11 12 13 14]\n",
      "(15,)\n",
      "[[ 0  1  2  3  4]\n",
      " [ 5  6  7  8  9]\n",
      " [10 11 12 13 14]]\n",
      "(3, 5)\n",
      "[[ 5  6  7  8  9]\n",
      " [10 11 12 13 14]]\n",
      "[[ 5  7  9]\n",
      " [10 12 14]]\n",
      "[[  0   1   2   3   4]\n",
      " [-99   6 -99   8 -99]\n",
      " [-99  11 -99  13 -99]]\n",
      "13\n",
      "-36.4\n"
     ]
    }
   ],
   "source": [
    "import numpy as np\n",
    "\n",
    "# 파이썬의 range()\n",
    "# list(range(15))\n",
    "\n",
    "# 넘파이 arange() - 1차원 벡터\n",
    "x = np.arange(15)\n",
    "print(x)\n",
    "print(x.shape)\n",
    "\n",
    "# 2차원 벡터(shape - 행렬의 크기)\n",
    "x2 = x.reshape(3, 5)\n",
    "print(x2)\n",
    "print(x2.shape)\n",
    "\n",
    "# 인덱싱 / 슬라이싱\n",
    "print(x2[1:, :])\n",
    "\n",
    "print(x2[1:, ::2])\n",
    "\n",
    "x2[1:, ::2] = -99\n",
    "print(x2)\n",
    "\n",
    "print(x2.max())\n",
    "print(x2.mean())"
   ]
  },
  {
   "cell_type": "code",
   "execution_count": 46,
   "id": "0455abb0-ea93-4e42-a8a1-5ba710f8c482",
   "metadata": {},
   "outputs": [
    {
     "name": "stdout",
     "output_type": "stream",
     "text": [
      "[3 1 2]\n",
      "<class 'numpy.ndarray'>\n",
      "(3,)\n",
      "[[1 2 3]\n",
      " [4 5 5]]\n",
      "(2, 3)\n"
     ]
    }
   ],
   "source": [
    "# 넘파이 - array() : 리스트 생성\n",
    "\n",
    "a = [3, 1, 2]\n",
    "x = np.array(a)\n",
    "print(x)\n",
    "print(type(x))\n",
    "print(x.shape)\n",
    "\n",
    "x2 = np.array([[1, 2, 3],\n",
    "               [4, 5, 5]])\n",
    "print(x2)\n",
    "print(x2.shape)"
   ]
  },
  {
   "cell_type": "code",
   "execution_count": 56,
   "id": "9f2a5d71-c33d-45bd-9e0d-968adbbafda5",
   "metadata": {},
   "outputs": [
    {
     "name": "stdout",
     "output_type": "stream",
     "text": [
      "[1.0, 2.0, 3.0, 2.0, 4.0, 6.0]\n",
      "[3. 6. 9.]\n",
      "[-1. -2. -3.]\n",
      "[ 2.  8. 18.]\n",
      "[0.5 0.5 0.5]\n"
     ]
    }
   ],
   "source": [
    "a = [1.0, 2.0, 3.0]\n",
    "b = [2.0, 4.0, 6.0]\n",
    "print(a + b)\n",
    "# print(a - b)\n",
    "\n",
    "# numpy 연산\n",
    "x = np.array([1.0, 2.0, 3.0])\n",
    "y = np.array([2.0, 4.0, 6.0])\n",
    "print(x + y)\n",
    "print(x - y)\n",
    "print(x * y)\n",
    "print(x / y)"
   ]
  },
  {
   "cell_type": "code",
   "execution_count": 66,
   "id": "f88cf87a-ce2c-495b-a632-adac7c4ef2ff",
   "metadata": {},
   "outputs": [
    {
     "name": "stdout",
     "output_type": "stream",
     "text": [
      "nan\n",
      "<class 'float'>\n",
      "[[0. 0. 0.]\n",
      " [0. 0. 0.]\n",
      " [0. 0. 0.]]\n",
      "[[1. 1. 1.]\n",
      " [1. 1. 1.]]\n"
     ]
    }
   ],
   "source": [
    "# zero, one 행렬 생성\n",
    "a = np.nan\n",
    "print(a)\n",
    "print(type(a))\n",
    "\n",
    "a2 = np.zeros((3, 3))\n",
    "print(a2)\n",
    "\n",
    "a3 = np.ones((2, 3))\n",
    "print(a3)"
   ]
  },
  {
   "cell_type": "code",
   "execution_count": null,
   "id": "ffc5dc43-43c8-4b3d-bb0a-f7ff679ee5da",
   "metadata": {},
   "outputs": [],
   "source": []
  }
 ],
 "metadata": {
  "kernelspec": {
   "display_name": "Python 3 (ipykernel)",
   "language": "python",
   "name": "python3"
  },
  "language_info": {
   "codemirror_mode": {
    "name": "ipython",
    "version": 3
   },
   "file_extension": ".py",
   "mimetype": "text/x-python",
   "name": "python",
   "nbconvert_exporter": "python",
   "pygments_lexer": "ipython3",
   "version": "3.12.7"
  }
 },
 "nbformat": 4,
 "nbformat_minor": 5
}
