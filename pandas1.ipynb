{
 "cells": [
  {
   "cell_type": "markdown",
   "id": "ef230855-178a-45ca-bda2-0a03d52f44a9",
   "metadata": {},
   "source": [
    "### 시리즈(Series)\n",
    "데이터가 순차적으로 나열된 1차원 배열(리스트)이다.\n",
    "인덱스(index)는 데이터값(value)와 일대일 대응함."
   ]
  },
  {
   "cell_type": "code",
   "execution_count": 3,
   "id": "1d6b1f92-9a7a-4278-be61-7346df2e8f56",
   "metadata": {},
   "outputs": [
    {
     "name": "stdout",
     "output_type": "stream",
     "text": [
      "Requirement already satisfied: pandas in c:\\users\\admin\\anaconda3\\lib\\site-packages (2.2.2)\n",
      "Requirement already satisfied: numpy>=1.26.0 in c:\\users\\admin\\anaconda3\\lib\\site-packages (from pandas) (1.26.4)\n",
      "Requirement already satisfied: python-dateutil>=2.8.2 in c:\\users\\admin\\anaconda3\\lib\\site-packages (from pandas) (2.9.0.post0)\n",
      "Requirement already satisfied: pytz>=2020.1 in c:\\users\\admin\\anaconda3\\lib\\site-packages (from pandas) (2024.1)\n",
      "Requirement already satisfied: tzdata>=2022.7 in c:\\users\\admin\\anaconda3\\lib\\site-packages (from pandas) (2023.3)\n",
      "Requirement already satisfied: six>=1.5 in c:\\users\\admin\\anaconda3\\lib\\site-packages (from python-dateutil>=2.8.2->pandas) (1.16.0)\n",
      "Note: you may need to restart the kernel to use updated packages.\n"
     ]
    }
   ],
   "source": [
    "# pandas (외부 라이브러리) 설치\n",
    "pip install pandas"
   ]
  },
  {
   "cell_type": "code",
   "execution_count": 13,
   "id": "ef5f28b2-1dda-4063-bf1d-1560159f1458",
   "metadata": {},
   "outputs": [
    {
     "name": "stdout",
     "output_type": "stream",
     "text": [
      "1     사과\n",
      "2      감\n",
      "3    바나나\n",
      "dtype: object\n",
      "Index([1, 2, 3], dtype='int64')\n",
      "<class 'pandas.core.series.Series'>\n"
     ]
    }
   ],
   "source": [
    "import pandas\n",
    "# s = pandas.Series([\"사과\", \"감\", \"바나나\"])\n",
    "s = pandas.Series([\"사과\", \"감\", \"바나나\"], index=[1, 2, 3])\n",
    "print(s)\n",
    "\n",
    "print(s.index)\n",
    "print(type(s))"
   ]
  },
  {
   "cell_type": "code",
   "execution_count": 17,
   "id": "6eccc539-9c5b-4054-829d-1e1a39e91d0f",
   "metadata": {},
   "outputs": [
    {
     "name": "stdout",
     "output_type": "stream",
     "text": [
      "1    3000\n",
      "2    2000\n",
      "3    1000\n",
      "dtype: int64\n"
     ]
    }
   ],
   "source": [
    "import pandas as pd\n",
    "\n",
    "s = pd.Series([3000, 2000, 1000])\n",
    "s.index = [1, 2, 3]\n",
    "print(s)"
   ]
  },
  {
   "cell_type": "markdown",
   "id": "586b7267-41fc-4c04-83a6-b1456d7dcdd1",
   "metadata": {},
   "source": [
    "### DataFrame\n",
    "Series들을 결합한 형태이다.<br>\n",
    "행과 열을 가진 2차원 리스트 형태이다."
   ]
  },
  {
   "cell_type": "code",
   "execution_count": 26,
   "id": "8b68713d-2653-4627-87fe-3ca1478c11c7",
   "metadata": {},
   "outputs": [
    {
     "data": {
      "text/plain": [
       "Index(['name', 'price'], dtype='object')"
      ]
     },
     "execution_count": 26,
     "metadata": {},
     "output_type": "execute_result"
    }
   ],
   "source": [
    "import pandas as pd\n",
    "\n",
    "name = pandas.Series([\"사과\", \"감\", \"바나나\"])\n",
    "price = pd.Series([3000, 2000, 1000])\n",
    "\n",
    "data = {\n",
    "    \"name\": name,\n",
    "    \"price\": price\n",
    "}\n",
    "# 데이터 프레임 만들기\n",
    "df = pd.DataFrame(data)\n",
    "df\n",
    "type(df)\n",
    "\n",
    "df.columns"
   ]
  },
  {
   "cell_type": "code",
   "execution_count": 46,
   "id": "61b8deb5-0a61-40b2-9d71-59add85480cb",
   "metadata": {},
   "outputs": [
    {
     "name": "stdout",
     "output_type": "stream",
     "text": [
      "<class 'pandas.core.frame.DataFrame'>\n",
      "RangeIndex: 3 entries, 0 to 2\n",
      "Data columns (total 3 columns):\n",
      " #   Column  Non-Null Count  Dtype \n",
      "---  ------  --------------  ----- \n",
      " 0   이름      3 non-null      object\n",
      " 1   가격      3 non-null      int64 \n",
      " 2   중량      3 non-null      object\n",
      "dtypes: int64(1), object(2)\n",
      "memory usage: 204.0+ bytes\n"
     ]
    },
    {
     "data": {
      "text/html": [
       "<div>\n",
       "<style scoped>\n",
       "    .dataframe tbody tr th:only-of-type {\n",
       "        vertical-align: middle;\n",
       "    }\n",
       "\n",
       "    .dataframe tbody tr th {\n",
       "        vertical-align: top;\n",
       "    }\n",
       "\n",
       "    .dataframe thead th {\n",
       "        text-align: right;\n",
       "    }\n",
       "</style>\n",
       "<table border=\"1\" class=\"dataframe\">\n",
       "  <thead>\n",
       "    <tr style=\"text-align: right;\">\n",
       "      <th></th>\n",
       "      <th>이름</th>\n",
       "      <th>가격</th>\n",
       "      <th>중량</th>\n",
       "    </tr>\n",
       "  </thead>\n",
       "  <tbody>\n",
       "    <tr>\n",
       "      <th>0</th>\n",
       "      <td>사과</td>\n",
       "      <td>3000</td>\n",
       "      <td>100g</td>\n",
       "    </tr>\n",
       "    <tr>\n",
       "      <th>1</th>\n",
       "      <td>감</td>\n",
       "      <td>2000</td>\n",
       "      <td>100g</td>\n",
       "    </tr>\n",
       "    <tr>\n",
       "      <th>2</th>\n",
       "      <td>바나나</td>\n",
       "      <td>1000</td>\n",
       "      <td>100g</td>\n",
       "    </tr>\n",
       "  </tbody>\n",
       "</table>\n",
       "</div>"
      ],
      "text/plain": [
       "    이름    가격    중량\n",
       "0   사과  3000  100g\n",
       "1    감  2000  100g\n",
       "2  바나나  1000  100g"
      ]
     },
     "execution_count": 46,
     "metadata": {},
     "output_type": "execute_result"
    }
   ],
   "source": [
    "import pandas as pd\n",
    "# 방법2 - 데이터 프레임 만들기\n",
    "data = {\n",
    "    \"name\": [\"사과\", \"감\", \"바나나\"],\n",
    "    \"price\": [3000, 2000, 1000]\n",
    "}\n",
    "\n",
    "df = pd.DataFrame(data)\n",
    "df\n",
    "\n",
    "# 칼럼 이름 변경 - rename()\n",
    "df_new = df.rename(columns={\"name\": \"이름\", \"price\": \"가격\"})\n",
    "df_new\n",
    "\n",
    "# 새 칼럼 추가\n",
    "df_new[\"중량\"] = \"100g\"\n",
    "df_new\n",
    "\n",
    "# 데이터의 정보\n",
    "df_new.info()\n",
    "\n",
    "# to_csv(파일 이름) : df_new를 csv파일로 저장하기(쓰기)\n",
    "df_new.to_csv(\"data/fruit.csv\", index=False)\n",
    "\n",
    "# read_csv(파일이름) : 파일 읽기\n",
    "fruit = pd.read_csv(\"data/fruit.csv\")\n",
    "fruit"
   ]
  },
  {
   "cell_type": "code",
   "execution_count": 54,
   "id": "6c02b639-8ddb-4961-a8ca-f7c66ec3cf31",
   "metadata": {},
   "outputs": [],
   "source": [
    "import pandas as pd\n",
    "\n",
    "df = pd.DataFrame({\n",
    "   \"메뉴\": ['아메리카노', '카페라떼', '카페모카', '카푸치노', '에스프레소', '밀크티', '녹차'], \n",
    "   \"가격\": [4500, 5000, 5500, 5000, 4000, 5900, 5300],\n",
    "   \"칼로리\": [10, 110, 250, 110, 20, 210, 0]\n",
    "})\n",
    "df\n",
    "\n",
    "# csv파일로 저장\n",
    "df.to_csv(\"data/cafe.csv\", index=False)"
   ]
  },
  {
   "cell_type": "code",
   "execution_count": 116,
   "id": "cfc1b13f-fb58-4184-85cb-35ca47c48e0f",
   "metadata": {},
   "outputs": [
    {
     "data": {
      "text/html": [
       "<div>\n",
       "<style scoped>\n",
       "    .dataframe tbody tr th:only-of-type {\n",
       "        vertical-align: middle;\n",
       "    }\n",
       "\n",
       "    .dataframe tbody tr th {\n",
       "        vertical-align: top;\n",
       "    }\n",
       "\n",
       "    .dataframe thead th {\n",
       "        text-align: right;\n",
       "    }\n",
       "</style>\n",
       "<table border=\"1\" class=\"dataframe\">\n",
       "  <thead>\n",
       "    <tr style=\"text-align: right;\">\n",
       "      <th></th>\n",
       "      <th>메뉴</th>\n",
       "      <th>가격</th>\n",
       "      <th>칼로리</th>\n",
       "      <th>할인가격</th>\n",
       "    </tr>\n",
       "  </thead>\n",
       "  <tbody>\n",
       "    <tr>\n",
       "      <th>0</th>\n",
       "      <td>아메리카노</td>\n",
       "      <td>4500</td>\n",
       "      <td>10.0</td>\n",
       "      <td>3600</td>\n",
       "    </tr>\n",
       "    <tr>\n",
       "      <th>1</th>\n",
       "      <td>카페라떼</td>\n",
       "      <td>5000</td>\n",
       "      <td>110.0</td>\n",
       "      <td>4000</td>\n",
       "    </tr>\n",
       "    <tr>\n",
       "      <th>2</th>\n",
       "      <td>카페모카</td>\n",
       "      <td>5500</td>\n",
       "      <td>250.0</td>\n",
       "      <td>4400</td>\n",
       "    </tr>\n",
       "    <tr>\n",
       "      <th>3</th>\n",
       "      <td>카푸치노</td>\n",
       "      <td>5000</td>\n",
       "      <td>110.0</td>\n",
       "      <td>4000</td>\n",
       "    </tr>\n",
       "    <tr>\n",
       "      <th>4</th>\n",
       "      <td>에스프레소</td>\n",
       "      <td>4000</td>\n",
       "      <td>20.0</td>\n",
       "      <td>3200</td>\n",
       "    </tr>\n",
       "    <tr>\n",
       "      <th>5</th>\n",
       "      <td>밀크티</td>\n",
       "      <td>5900</td>\n",
       "      <td>210.0</td>\n",
       "      <td>4720</td>\n",
       "    </tr>\n",
       "    <tr>\n",
       "      <th>6</th>\n",
       "      <td>녹차</td>\n",
       "      <td>5300</td>\n",
       "      <td>0.0</td>\n",
       "      <td>4240</td>\n",
       "    </tr>\n",
       "  </tbody>\n",
       "</table>\n",
       "</div>"
      ],
      "text/plain": [
       "      메뉴    가격    칼로리  할인가격\n",
       "0  아메리카노  4500   10.0  3600\n",
       "1   카페라떼  5000  110.0  4000\n",
       "2   카페모카  5500  250.0  4400\n",
       "3   카푸치노  5000  110.0  4000\n",
       "4  에스프레소  4000   20.0  3200\n",
       "5    밀크티  5900  210.0  4720\n",
       "6     녹차  5300    0.0  4240"
      ]
     },
     "execution_count": 116,
     "metadata": {},
     "output_type": "execute_result"
    }
   ],
   "source": [
    "# csv 파일 읽기\n",
    "df = pd.read_csv(\"data/cafe.csv\")\n",
    "\n",
    "# 데이터 정보\n",
    "# df.info()\n",
    "\n",
    "# head(), tail() - 상위, 하위 5개 출력\n",
    "df.head()\n",
    "# df.tail()\n",
    "\n",
    "# 통계 요약\n",
    "df.describe(include=\"number\")  #숫자 칼럼, include=\"number\" 생락 가능\n",
    "# df.describe(include=\"object\")  #문자열 칼럼\n",
    "\n",
    "# astype() : 칼로리 자료형 변환 -> 실수형\n",
    "df['칼로리'] = df['칼로리'].astype(\"float\")\n",
    "df['칼로리']\n",
    "\n",
    "# 파생 칼럼 생성 - 할인가(가격 20% 할인)\n",
    "df['할인가'] = df['가격'] * 0.8\n",
    "df\n",
    "\n",
    "# astype() : 칼로리 자료형 변환 -> 정수형\n",
    "df['할인가'] = df['할인가'].astype(\"int\")\n",
    "\n",
    "# 할인가를 할인가격으로 이름 변경\n",
    "# df = df.rename(columns={\"할인가\" : \"할인가격\"})\n",
    "df.rename(columns={\"할인가\" : \"할인가격\"}, inplace=True)\n",
    "df\n",
    "\n",
    "# cafe2.csv로 저장\n",
    "# df.to_csv(\"data/cafe2.csv\", index=False)"
   ]
  },
  {
   "cell_type": "code",
   "execution_count": 108,
   "id": "a95a99d6-c58f-4b3f-a141-13cded1fca03",
   "metadata": {},
   "outputs": [
    {
     "data": {
      "text/html": [
       "<div>\n",
       "<style scoped>\n",
       "    .dataframe tbody tr th:only-of-type {\n",
       "        vertical-align: middle;\n",
       "    }\n",
       "\n",
       "    .dataframe tbody tr th {\n",
       "        vertical-align: top;\n",
       "    }\n",
       "\n",
       "    .dataframe thead th {\n",
       "        text-align: right;\n",
       "    }\n",
       "</style>\n",
       "<table border=\"1\" class=\"dataframe\">\n",
       "  <thead>\n",
       "    <tr style=\"text-align: right;\">\n",
       "      <th></th>\n",
       "      <th>메뉴</th>\n",
       "      <th>가격</th>\n",
       "      <th>칼로리</th>\n",
       "      <th>할인가격</th>\n",
       "    </tr>\n",
       "  </thead>\n",
       "  <tbody>\n",
       "    <tr>\n",
       "      <th>0</th>\n",
       "      <td>아메리카노</td>\n",
       "      <td>4500</td>\n",
       "      <td>10.0</td>\n",
       "      <td>3600</td>\n",
       "    </tr>\n",
       "    <tr>\n",
       "      <th>1</th>\n",
       "      <td>카페라떼</td>\n",
       "      <td>5000</td>\n",
       "      <td>110.0</td>\n",
       "      <td>4000</td>\n",
       "    </tr>\n",
       "    <tr>\n",
       "      <th>2</th>\n",
       "      <td>카페모카</td>\n",
       "      <td>5500</td>\n",
       "      <td>250.0</td>\n",
       "      <td>4400</td>\n",
       "    </tr>\n",
       "    <tr>\n",
       "      <th>3</th>\n",
       "      <td>카푸치노</td>\n",
       "      <td>5000</td>\n",
       "      <td>110.0</td>\n",
       "      <td>4000</td>\n",
       "    </tr>\n",
       "    <tr>\n",
       "      <th>4</th>\n",
       "      <td>에스프레소</td>\n",
       "      <td>4000</td>\n",
       "      <td>20.0</td>\n",
       "      <td>3200</td>\n",
       "    </tr>\n",
       "    <tr>\n",
       "      <th>5</th>\n",
       "      <td>밀크티</td>\n",
       "      <td>5900</td>\n",
       "      <td>210.0</td>\n",
       "      <td>4720</td>\n",
       "    </tr>\n",
       "    <tr>\n",
       "      <th>6</th>\n",
       "      <td>녹차</td>\n",
       "      <td>5300</td>\n",
       "      <td>0.0</td>\n",
       "      <td>4240</td>\n",
       "    </tr>\n",
       "  </tbody>\n",
       "</table>\n",
       "</div>"
      ],
      "text/plain": [
       "      메뉴    가격    칼로리  할인가격\n",
       "0  아메리카노  4500   10.0  3600\n",
       "1   카페라떼  5000  110.0  4000\n",
       "2   카페모카  5500  250.0  4400\n",
       "3   카푸치노  5000  110.0  4000\n",
       "4  에스프레소  4000   20.0  3200\n",
       "5    밀크티  5900  210.0  4720\n",
       "6     녹차  5300    0.0  4240"
      ]
     },
     "execution_count": 108,
     "metadata": {},
     "output_type": "execute_result"
    }
   ],
   "source": [
    "import pandas as pd\n",
    "\n",
    "df = pd.read_csv(\"data/cafe2.csv\")\n",
    "df"
   ]
  }
 ],
 "metadata": {
  "kernelspec": {
   "display_name": "Python 3 (ipykernel)",
   "language": "python",
   "name": "python3"
  },
  "language_info": {
   "codemirror_mode": {
    "name": "ipython",
    "version": 3
   },
   "file_extension": ".py",
   "mimetype": "text/x-python",
   "name": "python",
   "nbconvert_exporter": "python",
   "pygments_lexer": "ipython3",
   "version": "3.12.7"
  }
 },
 "nbformat": 4,
 "nbformat_minor": 5
}
