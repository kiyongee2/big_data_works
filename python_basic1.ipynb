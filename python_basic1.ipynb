{
 "cells": [
  {
   "cell_type": "markdown",
   "id": "1809a46d-eda9-45b1-8129-467f105ddcf2",
   "metadata": {},
   "source": [
    "### 파이썬 기초 문법"
   ]
  },
  {
   "cell_type": "code",
   "execution_count": 13,
   "id": "b1e7bda5-0cf5-409d-b96b-70b8e90208c7",
   "metadata": {},
   "outputs": [
    {
     "name": "stdout",
     "output_type": "stream",
     "text": [
      "안녕\n",
      "2024\n",
      "2.54\n"
     ]
    }
   ],
   "source": [
    "# 파이썬 기초\n",
    "\n",
    "print(\"안녕\") #문자(따옴표로 감싸는 자료)\n",
    "print(2024)  #숫자(정수형)\n",
    "print(2.54)  #숫자(실수형)"
   ]
  },
  {
   "cell_type": "code",
   "execution_count": 45,
   "id": "c064393b-d557-491c-9ddd-f014b662ce01",
   "metadata": {},
   "outputs": [
    {
     "data": {
      "text/plain": [
       "False"
      ]
     },
     "execution_count": 45,
     "metadata": {},
     "output_type": "execute_result"
    }
   ],
   "source": [
    "# 산술 연산\n",
    "# 나눗셈\n",
    "16 / 3\n",
    "\n",
    "# 몫\n",
    "16 // 3\n",
    "\n",
    "# 나머지\n",
    "16 % 3\n",
    "\n",
    "# 우선 순위\n",
    "4 + 3 * 2\n",
    "\n",
    "(4 + 3) * 2\n",
    "\n",
    "# 문자 더하기\n",
    "\"py\"  + \"thon\"\n",
    "\"py\" + \"3\"\n",
    "# str() - 숫자형을 문자형으로 변환(내장함수)\n",
    "\"py\" + str(3)\n",
    "\n",
    "# type() - 자료형을 확인 \n",
    "type(3)  #int\n",
    "\n",
    "type(3.1)  #float\n",
    "\n",
    "# 4.4 - > 4\n",
    "int(4.4)\n",
    "\n",
    "type(\"smile\")  # str\n",
    "\n",
    "type(True) # bool\n",
    "type(5 > 10)\n",
    "5 > 10"
   ]
  },
  {
   "cell_type": "markdown",
   "id": "22dc9e8c-b94f-4d7c-9898-11956b660b36",
   "metadata": {},
   "source": [
    "#### 변수(Variable)\n",
    "메모리에 어떤 값을 저장하기 위한 공간,\n",
    "값은 1개만 저장됨"
   ]
  },
  {
   "cell_type": "code",
   "execution_count": 85,
   "id": "f5ec1fbe-db4f-4373-ae1c-56d2b4371ac0",
   "metadata": {},
   "outputs": [
    {
     "name": "stdout",
     "output_type": "stream",
     "text": [
      "11\n",
      "한강\n",
      "9500\n",
      "10 11\n"
     ]
    }
   ],
   "source": [
    "num = 10\n",
    "num = num + 1\n",
    "print(num)\n",
    "\n",
    "# 변수 이름 - 숫자로 시작하면 안되고, 공백이 있으면 안됨\n",
    "name = \"한강\"\n",
    "print(name)\n",
    "\n",
    "americano = 4500\n",
    "americano\n",
    "\n",
    "latte = 5000\n",
    "latte\n",
    "\n",
    "total = americano + latte\n",
    "print(total)\n",
    "\n",
    "# 다중 변수 할당\n",
    "# a = 10\n",
    "# b = 11\n",
    "a, b = 10, 11\n",
    "print(a, b)"
   ]
  },
  {
   "cell_type": "code",
   "execution_count": 103,
   "id": "25199665-957c-4082-b3e5-a53d6e91fd73",
   "metadata": {},
   "outputs": [
    {
     "name": "stdin",
     "output_type": "stream",
     "text": [
      "숫자 입력: 10\n"
     ]
    },
    {
     "name": "stdout",
     "output_type": "stream",
     "text": [
      "<class 'str'>\n",
      "10\n",
      "11\n"
     ]
    }
   ],
   "source": [
    "# 자료형 변환(크기 : 불리언 > 정수 < 실수 < 문자)\n",
    "# 자동변환 - 암시(암묵)적 변환(작은쪽 -> 큰쪽)\n",
    "a = 2\n",
    "b = 0.15\n",
    "a = a + b\n",
    "a\n",
    "\n",
    "# 명시적 형변환(casting) - 큰쪽 -> 작은쪽\n",
    "box = 2.17\n",
    "box2 = int(box)\n",
    "box2\n",
    "\n",
    "# 입력 - input()\n",
    "num = input(\"숫자 입력:\")\n",
    "print(type(num))\n",
    "num = int(num)\n",
    "print(num)\n",
    "print(num + 1)"
   ]
  },
  {
   "cell_type": "markdown",
   "id": "3f1beab3-3361-446e-92fe-5428c46ba494",
   "metadata": {},
   "source": [
    "### 조건문(if)"
   ]
  },
  {
   "cell_type": "code",
   "execution_count": 134,
   "id": "6848da26-8fc9-411e-a855-647d1b444dca",
   "metadata": {},
   "outputs": [
    {
     "name": "stdout",
     "output_type": "stream",
     "text": [
      "Fail\n"
     ]
    },
    {
     "name": "stdin",
     "output_type": "stream",
     "text": [
      "점수 입력: 80\n"
     ]
    },
    {
     "name": "stdout",
     "output_type": "stream",
     "text": [
      "B\n"
     ]
    }
   ],
   "source": [
    "# 비교 연산자\n",
    "10 > 11\n",
    "\n",
    "10 < 11\n",
    "\n",
    "10 == 11\n",
    "\n",
    "10 != 11\n",
    "\n",
    "a, b, c = \"머신러닝\", \"머신러닝\", \"딥러닝\"\n",
    "a == b\n",
    "a != b\n",
    "a == c\n",
    "\n",
    "# 조건문\n",
    "# if문 - 조건이 True일때 실행\n",
    "score = 5\n",
    "\n",
    "if score >= 10:\n",
    "    print(\"Pass\")\n",
    "\n",
    "# if ~ else문\n",
    "if score >= 10:\n",
    "    print(\"Pass\")\n",
    "else:\n",
    "    print(\"Fail\")\n",
    "\n",
    "# if ~ elif ~ else\n",
    "# 점수 = 87\n",
    "점수 = int(input(\"점수 입력:\"))\n",
    "\n",
    "if 점수 >= 90:\n",
    "    print('A')\n",
    "elif 점수 >= 80:\n",
    "    print('B')\n",
    "elif 점수 >= 70:\n",
    "    print('C')\n",
    "else:\n",
    "    print('D')\n",
    "\n",
    "\"\"\"\n",
    "if 점수 >= 90 and 점수 <= 100:\n",
    "    print('A')\n",
    "elif 점수 >= 80 and 점수 < 90:\n",
    "    print('B')\n",
    "elif 점수 >= 70 and 점수 < 80:\n",
    "    print('C')\n",
    "else:\n",
    "    print('D')\n",
    "\"\"\"\n"
   ]
  },
  {
   "cell_type": "markdown",
   "id": "4eddf2e0-7d2b-4a93-8bc7-427eb841dcfd",
   "metadata": {},
   "source": [
    "### 리스트(list)\n",
    "여러 개의 데이터를 저장하는 공간<br>\n",
    "순서(인덱스)가 있어서 자료에 접근할 수 있음"
   ]
  },
  {
   "cell_type": "code",
   "execution_count": 158,
   "id": "58d3223c-1dd6-4504-b9bd-58fd914967e2",
   "metadata": {},
   "outputs": [
    {
     "name": "stdout",
     "output_type": "stream",
     "text": [
      "[4, 2, 10, 5, 8]\n",
      "4\n",
      "10\n",
      "8\n",
      "8\n"
     ]
    },
    {
     "data": {
      "text/plain": [
       "[4, 2, 1, 5, 8]"
      ]
     },
     "execution_count": 158,
     "metadata": {},
     "output_type": "execute_result"
    }
   ],
   "source": [
    "# 리스트 \n",
    "listbox = [4, 2, 10, 5, 8]\n",
    "print(listbox)\n",
    "type(listbox)\n",
    "\n",
    "# 접근 - 인덱싱\n",
    "print(listbox[0])\n",
    "print(listbox[2])\n",
    "print(listbox[4])\n",
    "\n",
    "print(listbox[-1])\n",
    "\n",
    "# 요소(값) 추가 - append() - 맨 뒤에서 가가\n",
    "listbox.append(20)\n",
    "listbox\n",
    "\n",
    "# 요소(값) 수정\n",
    "listbox[2] = 1\n",
    "listbox\n",
    "\n",
    "# 요소(삭제) - 맨 뒤에서 삭제\n",
    "listbox.pop()\n",
    "listbox"
   ]
  },
  {
   "cell_type": "code",
   "execution_count": 164,
   "id": "41da621d-fbfa-4e31-a944-4e5584f74586",
   "metadata": {},
   "outputs": [
    {
     "data": {
      "text/plain": [
       "['감', '파인애플', '사과']"
      ]
     },
     "execution_count": 164,
     "metadata": {},
     "output_type": "execute_result"
    }
   ],
   "source": [
    "# 리스트\n",
    "fruits = []  #빈 배열\n",
    "\n",
    "fruits.append(\"감\")\n",
    "fruits.append(\"바나나\")\n",
    "fruits.append(\"사과\")\n",
    "\n",
    "# 수정\n",
    "fruits[1] = \"파인애플\"\n",
    "\n",
    "fruits"
   ]
  }
 ],
 "metadata": {
  "kernelspec": {
   "display_name": "Python 3 (ipykernel)",
   "language": "python",
   "name": "python3"
  },
  "language_info": {
   "codemirror_mode": {
    "name": "ipython",
    "version": 3
   },
   "file_extension": ".py",
   "mimetype": "text/x-python",
   "name": "python",
   "nbconvert_exporter": "python",
   "pygments_lexer": "ipython3",
   "version": "3.12.7"
  }
 },
 "nbformat": 4,
 "nbformat_minor": 5
}
