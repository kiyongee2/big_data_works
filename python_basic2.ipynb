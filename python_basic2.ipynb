{
 "cells": [
  {
   "cell_type": "markdown",
   "id": "58b36f84-31cd-4a9f-a47b-73b524149e39",
   "metadata": {},
   "source": [
    "### 반복문(for문)"
   ]
  },
  {
   "cell_type": "code",
   "execution_count": 48,
   "id": "7aad5e1e-d6cd-487c-b6a7-ae24b3407a6e",
   "metadata": {},
   "outputs": [
    {
     "name": "stdout",
     "output_type": "stream",
     "text": [
      "True\n",
      "False\n",
      "사과\n",
      "바나나\n",
      "감\n",
      "[2, 4, 6, 8, 10, 12, 14, 16, 18, 20]\n"
     ]
    }
   ],
   "source": [
    "# range()\n",
    "range(1, 10)\n",
    "list(range(1, 10))  #시작인덱스, 끝 인덱스(번호-1)\n",
    "list(range(10)) # 시작인덱스가 없으면 0부터 시작함\n",
    "\n",
    "# for i in range(1, 11):\n",
    "#     print(\"Hi~\", i)\n",
    "\n",
    "# 1 ~ 10까지 출력\n",
    "# for i in range(1, 11): # 2 - 간격(step)\n",
    "#     print(i)\n",
    "\n",
    "# for ~ in 리스트\n",
    "word = [\"사과\", \"바나나\", \"감\"]\n",
    "print(\"사과\" in word)\n",
    "print(\"딸기\" in word)\n",
    "\n",
    "for i in word:\n",
    "    print(i)\n",
    "\n",
    "# 리스트 : 1 ~ 10 저장\n",
    "number = []\n",
    "for i in range(1, 11):\n",
    "    number.append(i * 2)\n",
    "    \n",
    "print(number)"
   ]
  },
  {
   "cell_type": "markdown",
   "id": "2248266b-b1a4-403a-aaaf-e454dcb1302c",
   "metadata": {},
   "source": [
    "### 딕셔너리\n",
    "키(key)와 값(value)으로 이루어진 자료형<br>\n",
    "순서가 없음. 키를 사용해서 값에 접근한다.\n",
    "{ }(중괄호) 사용"
   ]
  },
  {
   "cell_type": "code",
   "execution_count": 76,
   "id": "92537c7c-ba4b-4f73-ac3a-a595c004130c",
   "metadata": {},
   "outputs": [
    {
     "name": "stdout",
     "output_type": "stream",
     "text": [
      "{'name': '쿠키', 'level': 5}\n",
      "dict_keys(['name', 'level'])\n",
      "dict_values(['쿠키', 5])\n",
      "{'name': '쿠키', 'level': 5, 'id': 'cookie'}\n",
      "{'name': 'Jerry', 'level': 5, 'id': 'cookie'}\n",
      "{'name': 'Jerry', 'id': 'cookie'}\n"
     ]
    }
   ],
   "source": [
    "dictbox = {\n",
    "    \"name\": \"쿠키\", \n",
    "    \"level\": 5\n",
    "}\n",
    "\n",
    "print(dictbox)\n",
    "type(dictbox)\n",
    "\n",
    "# 키, 값\n",
    "print(dictbox.keys())\n",
    "print(dictbox.values())\n",
    "\n",
    "# 값 조회(접근)\n",
    "dictbox['name']\n",
    "dictbox['level']\n",
    "\n",
    "# 값 추가\n",
    "dictbox['id'] = \"cookie\"\n",
    "print(dictbox)\n",
    "\n",
    "# 값 변경\n",
    "dictbox['name'] = \"Jerry\"\n",
    "print(dictbox)\n",
    "\n",
    "# 값 삭제\n",
    "del dictbox['level']\n",
    "print(dictbox)"
   ]
  },
  {
   "cell_type": "code",
   "execution_count": 88,
   "id": "81e260f3-acb4-4c0c-bddb-23370d14117f",
   "metadata": {},
   "outputs": [
    {
     "name": "stdout",
     "output_type": "stream",
     "text": [
      "{'요리': ['분식', '한식', '중식'], '점포수': [4, 5, 2]}\n",
      "한식\n",
      "5\n"
     ]
    }
   ],
   "source": [
    "# 딕셔너리(값이 여러개 - 리스트와 연동)\n",
    "cook = [\"분식\", \"한식\", \"중식\"]\n",
    "number = [4, 5, 2]\n",
    "\n",
    "store = {\n",
    "    \"요리\" : cook,\n",
    "    \"점포수\": number\n",
    "}\n",
    "print(store)\n",
    "\n",
    "# 한식에 접근(조회)\n",
    "print(store[\"요리\"][1])\n",
    "\n",
    "# 한식의 점포 수\n",
    "print(store[\"점포수\"][1])"
   ]
  },
  {
   "cell_type": "code",
   "execution_count": 102,
   "id": "c8796ff8-0e2b-48c8-90e3-a6b3d005c16d",
   "metadata": {},
   "outputs": [
    {
     "name": "stdout",
     "output_type": "stream",
     "text": [
      "[2, 4, 6]\n",
      "[2, 4, 6]\n",
      "[6, 8, 10]\n",
      "[2, 4, 6, 8, 10]\n",
      "[2, 4, 6, 8]\n",
      "[2, 8]\n"
     ]
    }
   ],
   "source": [
    "# 인덱싱과 슬라이싱\n",
    "number = [2, 4, 6, 8, 10]\n",
    "\n",
    "print(number[0:3])  #0, 1, 2번 \n",
    "print(number[:3]) # 0은 생략 가능함\n",
    "print(number[2:])\n",
    "print(number[:])\n",
    "\n",
    "print(number[:-1])\n",
    "print(number[::3]) #세번째 인자(step-간격)"
   ]
  },
  {
   "cell_type": "markdown",
   "id": "0c14901d-af7d-4028-8969-797211ee82b4",
   "metadata": {},
   "source": [
    "### 튜플\n",
    "여러개의 자료를 저장하는 자료형(구조)<br>\n",
    "요소를 수정하거나 삭제할 수 없다.<br>\n",
    "접근(조회)는 가능"
   ]
  },
  {
   "cell_type": "code",
   "execution_count": 135,
   "id": "eb1433d4-f4d8-4eac-9fe5-e5810adb5124",
   "metadata": {},
   "outputs": [
    {
     "name": "stdout",
     "output_type": "stream",
     "text": [
      "(1, 2, 3)\n",
      "<class 'tuple'>\n",
      "1\n",
      "(3,)\n",
      "<class 'tuple'>\n"
     ]
    }
   ],
   "source": [
    "a = (1, 2, 3)\n",
    "print(a)\n",
    "print(type(a))\n",
    "\n",
    "# 특정값 조회\n",
    "print(a[0])\n",
    "\n",
    "# 수정 안됨\n",
    "# a[0] = 4\n",
    "\n",
    "# 요소가 1개일때는 콤머를 사용함\n",
    "b = (3,)\n",
    "print(b)\n",
    "print(type(b))"
   ]
  },
  {
   "cell_type": "code",
   "execution_count": 19,
   "id": "d3532250-782a-409a-8f95-616361e6a518",
   "metadata": {},
   "outputs": [
    {
     "name": "stdout",
     "output_type": "stream",
     "text": [
      "칼럼: age\n",
      "칼럼:10\n",
      "칼럼: age\n",
      "숫자: 10\n"
     ]
    }
   ],
   "source": [
    "column = \"age\"\n",
    "number = 10\n",
    "\n",
    "#1 인자 2개\n",
    "print(\"칼럼:\", column)\n",
    "\n",
    "#2. + 연결 연산자 \n",
    "print(\"칼럼:\" + str(number))\n",
    "\n",
    "# f포맷 방식\n",
    "print(f\"칼럼: {column}\")\n",
    "print(f\"숫자: {number}\")"
   ]
  },
  {
   "cell_type": "code",
   "execution_count": 35,
   "id": "17014922-a9de-44b5-b84f-98aef4fdbace",
   "metadata": {},
   "outputs": [
    {
     "name": "stdout",
     "output_type": "stream",
     "text": [
      "개수: 4\n",
      "개수: 4\n",
      "합계: 22\n",
      "최대값: 10\n",
      "최대값: 2\n",
      "5.5\n"
     ]
    }
   ],
   "source": [
    "# 내장 함수\n",
    "# len(), sum(), max(), min(), int(), str()\n",
    "\n",
    "number = [4, 2, 10, 6]\n",
    "print(f'개수: {len(number)}')\n",
    "print(\"개수:\", len(number))\n",
    "\n",
    "print(f'합계: {sum(number)}')\n",
    "print(f'최대값: {max(number)}')\n",
    "print(f'최대값: {min(number)}')\n",
    "\n",
    "# 평균 = 합계 / 개수\n",
    "avg = sum(number) / len(number)\n",
    "print(avg)"
   ]
  },
  {
   "cell_type": "code",
   "execution_count": 45,
   "id": "964679c2-c9ce-4a03-b081-8b6faa8fe998",
   "metadata": {},
   "outputs": [
    {
     "name": "stdout",
     "output_type": "stream",
     "text": [
      "안녕\n",
      "안녕\n",
      "안녕~ 한강\n",
      "안녕~ Elsa\n"
     ]
    }
   ],
   "source": [
    "# 사용자 정의 함수 - def문(def 함수이름)\n",
    "def hello():\n",
    "    print(\"안녕\")\n",
    "\n",
    "# 매개변수가 있는 함수\n",
    "def hello2(name):\n",
    "    print(\"안녕~ \" + name)\n",
    "\n",
    "# 함수 호출\n",
    "hello()\n",
    "hello()\n",
    "\n",
    "hello2(\"한강\")\n",
    "hello2(\"Elsa\")"
   ]
  },
  {
   "cell_type": "code",
   "execution_count": 55,
   "id": "bbe7067b-5e86-48aa-a9ae-b7ab5ca58149",
   "metadata": {},
   "outputs": [
    {
     "name": "stdout",
     "output_type": "stream",
     "text": [
      "16\n",
      "5\n"
     ]
    }
   ],
   "source": [
    "# return이 있는 함수 (반환값이 있는 함수)\n",
    "def square(x):\n",
    "    return x * x\n",
    "\n",
    "def plus(x, y):\n",
    "    return x + y\n",
    "\n",
    "result = square(4)\n",
    "print(result)\n",
    "\n",
    "result2 = plus(2, 3)\n",
    "print(result2)"
   ]
  },
  {
   "cell_type": "code",
   "execution_count": 67,
   "id": "b2efda60-4a4e-4a67-af91-2a9eb0059158",
   "metadata": {},
   "outputs": [
    {
     "name": "stdout",
     "output_type": "stream",
     "text": [
      "15 78\n",
      "43.8\n"
     ]
    }
   ],
   "source": [
    "# 함수의 매개변수로 리스트를 전달\n",
    "# 최대값, 최소값을 반환하는 함수\n",
    "def min_max(data):\n",
    "    mi = min(data)\n",
    "    ma = max(data)\n",
    "    return mi, ma\n",
    "\n",
    "# 평균을 계산하는 함수\n",
    "def mean(a):\n",
    "    avg = sum(a) / len(a)\n",
    "    return avg\n",
    "\n",
    "listbox = [15, 46, 78, 24, 56]\n",
    "# print(min(listbox))\n",
    "# print(max(listbox))\n",
    "\n",
    "a, b = min_max(listbox)\n",
    "print(a, b)\n",
    "\n",
    "# 평균 함수 호출\n",
    "average = mean(listbox)\n",
    "print(average)"
   ]
  },
  {
   "cell_type": "code",
   "execution_count": 93,
   "id": "c4c1656f-f64d-4f32-be4e-1e739466d61e",
   "metadata": {},
   "outputs": [
    {
     "name": "stdout",
     "output_type": "stream",
     "text": [
      "2.55\n",
      "2.5\n",
      "3.0\n",
      "3\n",
      "빅데이터 분석기사 파이썬 스터디\n",
      "['2024', '11', '14']\n",
      "2024년 11월 14일\n",
      "['orange', 'apple', 'banana']\n"
     ]
    }
   ],
   "source": [
    "# 내장 함수 - round(숫자, 출력할 자리수)\n",
    "print(round(2.5472, 2))\n",
    "print(round(2.5472, 1))\n",
    "print(round(2.5472, 0))\n",
    "\n",
    "print(int(round(2.5472, 0)))\n",
    "\n",
    "# 문자열 함수 - replace(변경전 문자, 변경후 문자)\n",
    "text = \"빅데이터 분석기사 파이썬 공부\"\n",
    "text = text.replace(\"공부\", \"스터디\")\n",
    "print(text)\n",
    "\n",
    "# 문자열 함수 - split(구분기호 문자) - ':', \",\", \"/\"\n",
    "# 결과가 리스트로 반환됨\n",
    "date = \"2024-11-14\"\n",
    "date = date.split('-')\n",
    "print(date)\n",
    "print(f'{date[0]}년 {date[1]}월 {date[2]}일')\n",
    "\n",
    "fruits = \"orange apple banana\"\n",
    "fruits = fruits.split() # 공백\n",
    "# fruits = fruits.split(\" \")  # 공백\n",
    "print(fruits)"
   ]
  },
  {
   "cell_type": "markdown",
   "id": "633e8662-bb15-4417-8d08-60193700547a",
   "metadata": {},
   "source": [
    "#### 모듈 - 파일을 사용 (함수, 클래스)가 포함됨\n",
    "import 키워드를 사용"
   ]
  },
  {
   "cell_type": "code",
   "execution_count": 108,
   "id": "fc89d5ee-8815-4e87-8a2e-45637c104dae",
   "metadata": {},
   "outputs": [
    {
     "name": "stdout",
     "output_type": "stream",
     "text": [
      "2024-11-13\n",
      "2024\n",
      "11\n",
      "13\n",
      "2024-11-13 15:19:27.622949\n",
      "15\n",
      "19\n",
      "27\n"
     ]
    }
   ],
   "source": [
    "# 날짜와 시간 - datetime, 수학 - math, 게임 - random\n",
    "# 날짜 - date\n",
    "import datetime\n",
    "\n",
    "# 날짜\n",
    "today = datetime.date.today()\n",
    "print(today)\n",
    "\n",
    "print(today.year)\n",
    "print(today.month)\n",
    "print(today.day)\n",
    "\n",
    "# 날짜와 시간\n",
    "now = datetime.datetime.today()\n",
    "print(now)\n",
    "print(now.hour)\n",
    "print(now.minute)\n",
    "print(now.second)"
   ]
  },
  {
   "cell_type": "code",
   "execution_count": 114,
   "id": "a5d4ec28-e2cf-4a32-ad0d-a9c738c1b36b",
   "metadata": {},
   "outputs": [
    {
     "name": "stdout",
     "output_type": "stream",
     "text": [
      "2024-10-01\n",
      "<class 'datetime.date'>\n",
      "43 days, 0:00:00\n"
     ]
    }
   ],
   "source": [
    "# 날짜의 기간을 확인\n",
    "import datetime\n",
    "\n",
    "the_day = datetime.date(2024, 10, 1)\n",
    "print(the_day)\n",
    "print(type(the_day))\n",
    "\n",
    "today = datetime.date.today()\n",
    "\n",
    "passed_day = today - the_day\n",
    "print(passed_day)"
   ]
  },
  {
   "cell_type": "code",
   "execution_count": 122,
   "id": "b2e3a167-af06-4e49-a5b8-daa4df159254",
   "metadata": {},
   "outputs": [
    {
     "name": "stdout",
     "output_type": "stream",
     "text": [
      "3.141592653589793\n",
      "78.53981633974483\n",
      "4\n",
      "5\n"
     ]
    }
   ],
   "source": [
    "import math\n",
    "\n",
    "print(math.pi)\n",
    "\n",
    "# 원의 넓이 : 원주율 * 반지름 * 반지름\n",
    "radius = 5\n",
    "area = math.pi * radius * radius\n",
    "print(area)\n",
    "\n",
    "# 버림\n",
    "print(math.floor(4.9))\n",
    "\n",
    "# 올림\n",
    "print(math.ceil(4.1))"
   ]
  },
  {
   "cell_type": "markdown",
   "id": "228cbb1d-cbc6-479b-8008-94b48c01c9e1",
   "metadata": {},
   "source": [
    "### 클래스\n",
    "사물을 추상화한 객체 자료형임.(기본 자료형 - int, str, bool)<br>\n",
    "객체에 대한 속성과 기능을 코드로 구현한 것<br>\n",
    "class 키워드를 사용"
   ]
  },
  {
   "cell_type": "code",
   "execution_count": 130,
   "id": "d349fb26-ff20-4eed-bed0-d86075ad9b2f",
   "metadata": {},
   "outputs": [
    {
     "name": "stdout",
     "output_type": "stream",
     "text": [
      "생성자\n",
      "이름: 한강\n",
      "학년: 3\n"
     ]
    }
   ],
   "source": [
    "# 학생 클래스 - 학생의 속성과 메서드(함수)로 구성, 생성자 함수\n",
    "class Student:\n",
    "    def __init__(self):\n",
    "       self.name = \"한강\" \n",
    "       self.grade = 3\n",
    "       print(\"생성자\")\n",
    "\n",
    "# 매개변수(인자)가 없는 클래스\n",
    "s = Student() # s - 객체(인스턴스)\n",
    "print(\"이름:\", s.name)   \n",
    "print(\"학년:\", s.grade)"
   ]
  },
  {
   "cell_type": "code",
   "execution_count": 134,
   "id": "71b46e9d-1008-41a9-b502-f754c4752dde",
   "metadata": {},
   "outputs": [
    {
     "name": "stdout",
     "output_type": "stream",
     "text": [
      "이름: 한강, 학년: 3\n",
      "이름: 남산, 학년: 1\n"
     ]
    }
   ],
   "source": [
    "class Student:\n",
    "    def __init__(self, name, grade):\n",
    "        self.name = name\n",
    "        self.grade = grade\n",
    "\n",
    "    def student_info(self):\n",
    "        return f'이름: {self.name}, 학년: {self.grade}'\n",
    "\n",
    "s1 = Student(\"한강\", 3)\n",
    "print(s1.student_info())\n",
    "\n",
    "s2 = Student(\"남산\", 1)\n",
    "print(s2.student_info())"
   ]
  }
 ],
 "metadata": {
  "kernelspec": {
   "display_name": "Python 3 (ipykernel)",
   "language": "python",
   "name": "python3"
  },
  "language_info": {
   "codemirror_mode": {
    "name": "ipython",
    "version": 3
   },
   "file_extension": ".py",
   "mimetype": "text/x-python",
   "name": "python",
   "nbconvert_exporter": "python",
   "pygments_lexer": "ipython3",
   "version": "3.12.7"
  }
 },
 "nbformat": 4,
 "nbformat_minor": 5
}
