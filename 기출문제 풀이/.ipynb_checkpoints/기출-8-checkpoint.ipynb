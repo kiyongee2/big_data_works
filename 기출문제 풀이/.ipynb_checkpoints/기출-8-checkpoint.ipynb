{
 "cells": [
  {
   "cell_type": "markdown",
   "id": "a085c193-d82f-458e-81b4-b34005b9e0bd",
   "metadata": {},
   "source": [
    "#### 제1유형"
   ]
  },
  {
   "cell_type": "code",
   "execution_count": 36,
   "id": "b2b9cd1b-e9a2-4afa-8f42-aea7caf5c32f",
   "metadata": {},
   "outputs": [
    {
     "name": "stdout",
     "output_type": "stream",
     "text": [
      "continent\n",
      "Africa            61.471698\n",
      "Asia              37.045455\n",
      "Europe           193.777778\n",
      "North America    145.434783\n",
      "Oceania           89.687500\n",
      "South America    175.083333\n",
      "Name: beer_servings, dtype: float64\n",
      "313\n"
     ]
    }
   ],
   "source": [
    "# 1\n",
    "import pandas as pd\n",
    "\n",
    "df = pd.read_csv(\"drinks.csv\")\n",
    "# df.info()\n",
    "# df.head()\n",
    "\n",
    "# 대륙별 맥주 소비량의 평균 - groupby()을 구함\n",
    "mean_val = df.groupby('continent')['beer_servings'].mean()\n",
    "print(mean_val)\n",
    "\n",
    "# 평균이 가장 큰 대륙\n",
    "# max_continent = mean_val.sort_values(ascending=False).index[0]\n",
    "# cond = df['continent'] == max_continent\n",
    "cond = df['continent'] == \"Europe\"\n",
    "df = df[cond]\n",
    "df_new = df.sort_values('beer_servings', ascending=False)\n",
    "print(df_new.iloc[4, 1])"
   ]
  },
  {
   "cell_type": "code",
   "execution_count": 56,
   "id": "38bbca53-a460-458e-bb71-bdbcfb0540a1",
   "metadata": {},
   "outputs": [
    {
     "name": "stdout",
     "output_type": "stream",
     "text": [
      "203\n",
      "238\n",
      "441\n"
     ]
    }
   ],
   "source": [
    "# 2\n",
    "import pandas as pd\n",
    "\n",
    "df = pd.read_csv(\"tourist.csv\")\n",
    "df\n",
    "\n",
    "# 관광객 비율이 두 번째로 높은 국가\n",
    "df['방문객 합계'] = df['관광'] + df['공무'] + df['사업'] + df['기타']\n",
    "df['관광객 비율'] = df['관광'] / df['방문객 합계']\n",
    "df\n",
    "\n",
    "# nlargest() - '관광객 비율'이 두번째로 높은 '사업' 방문객 수\n",
    "df.nlargest(2, '관광객 비율')\n",
    "a = df.nlargest(2, '관광객 비율').iloc[1, 3]\n",
    "print(a)\n",
    "\n",
    "# '관광'이 두번째로 높은 국가의 '공무' 방문객 수\n",
    "df.nlargest(2, '관광')\n",
    "b = df.nlargest(2, '관광').iloc[1, 2]\n",
    "print(b)\n",
    "print(a + b)"
   ]
  }
 ],
 "metadata": {
  "kernelspec": {
   "display_name": "Python 3 (ipykernel)",
   "language": "python",
   "name": "python3"
  },
  "language_info": {
   "codemirror_mode": {
    "name": "ipython",
    "version": 3
   },
   "file_extension": ".py",
   "mimetype": "text/x-python",
   "name": "python",
   "nbconvert_exporter": "python",
   "pygments_lexer": "ipython3",
   "version": "3.12.7"
  }
 },
 "nbformat": 4,
 "nbformat_minor": 5
}
