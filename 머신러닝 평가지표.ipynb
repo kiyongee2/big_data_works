{
 "cells": [
  {
   "cell_type": "markdown",
   "id": "4ab7433b-176e-43ca-977a-042cc4300e48",
   "metadata": {},
   "source": [
    "### 이진분류 평가지표"
   ]
  },
  {
   "cell_type": "code",
   "execution_count": 2,
   "id": "4d5a39d9-9c3c-4f67-9fdd-71b611a30237",
   "metadata": {},
   "outputs": [],
   "source": [
    "# 이진 분류 데이터\n",
    "import pandas as pd\n",
    "\n",
    "y_true = pd.DataFrame([1, 1, 1, 0, 0, 1, 1, 1, 1 ,0])  #실제 값\n",
    "y_pred = pd.DataFrame([1, 0, 1, 1, 0, 0, 0, 1, 1 ,0])  #예측 값"
   ]
  },
  {
   "cell_type": "code",
   "execution_count": 4,
   "id": "492a6c70-538e-4ef1-aa19-8b6855d56013",
   "metadata": {},
   "outputs": [
    {
     "name": "stdout",
     "output_type": "stream",
     "text": [
      "정확도: 0.6\n"
     ]
    }
   ],
   "source": [
    "# 정확도(Accuracy) - 전체 데이터 중에서 올바르게 예측된 데이터의 비율 \n",
    "from sklearn.metrics import accuracy_score\n",
    "\n",
    "accuracy = accuracy_score(y_true, y_pred)\n",
    "print(\"정확도:\", accuracy)"
   ]
  },
  {
   "cell_type": "code",
   "execution_count": 8,
   "id": "067bc10e-5c02-4613-aa04-e2f67477150b",
   "metadata": {},
   "outputs": [
    {
     "name": "stdout",
     "output_type": "stream",
     "text": [
      "정밀도: 0.8\n"
     ]
    }
   ],
   "source": [
    "# 정밀도(Precision) - 양성으로 예측된 데이터 중 실제로 양성인 비율\n",
    "\n",
    "from sklearn.metrics import precision_score\n",
    "\n",
    "precision = precision_score(y_true, y_pred)\n",
    "print(\"정밀도:\", precision)"
   ]
  },
  {
   "cell_type": "code",
   "execution_count": 10,
   "id": "15abaf22-2b14-4d20-b0cc-acdab2a106c0",
   "metadata": {},
   "outputs": [
    {
     "name": "stdout",
     "output_type": "stream",
     "text": [
      "정밀도: 0.5714285714285714\n"
     ]
    }
   ],
   "source": [
    "# 재현율(Recall) - 실제 양성인 데이터 중 모델이 양성으로 올바르게 예측한 비율\n",
    "\n",
    "from sklearn.metrics import recall_score\n",
    "\n",
    "recall = recall_score(y_true, y_pred)\n",
    "print(\"재현율:\", recall)"
   ]
  },
  {
   "cell_type": "code",
   "execution_count": 14,
   "id": "4aa45186-ad7c-4445-a18f-b2fe8b7b6d44",
   "metadata": {},
   "outputs": [
    {
     "name": "stdout",
     "output_type": "stream",
     "text": [
      "F1 스코어: 0.6666666666666666\n"
     ]
    }
   ],
   "source": [
    "# F1 스코어 - 정밀도와 재현율의 조화 평균으로 불균형 데이터를 평가하는데 유용\n",
    "from sklearn.metrics import f1_score\n",
    "\n",
    "f1 = f1_score(y_true, y_pred)\n",
    "print(\"F1 스코어:\", f1)"
   ]
  },
  {
   "cell_type": "code",
   "execution_count": 16,
   "id": "9dac5518-ffd9-4297-88c1-3002b218832a",
   "metadata": {},
   "outputs": [
    {
     "name": "stdout",
     "output_type": "stream",
     "text": [
      "ROC-AUC: 0.86\n"
     ]
    }
   ],
   "source": [
    "# ROC-AUC - ROC 곡선 아래영역 즉 AUC()는 분류 모델의 성능을 평가하는 지표다.\n",
    "# 양성 클래스(일반적으로 '1'로 표시)에 속할 확률을 예측하기 위해 predict_proba()를 사용\n",
    "# 반환된 배열(리스트)의 두 번째 열(pred[:, 1])을 사용한다.\n",
    "# ROC-AUC값이 1에 가까울 수로 모델의 성능이 우수함\n",
    "from sklearn.metrics import roc_auc_score\n",
    "#실제 값(0: 음성, 1: 양성)\n",
    "y_true = pd.DataFrame([0, 1, 0, 1, 1, 0, 0, 0, 1 ,1])  \n",
    "\n",
    "#예측값 중 양성(1) 확률\n",
    "y_pred_proba = pd.DataFrame([0.4, 0.9, 0.1, 0.3, 0.8, 0.6, 0.4, 0.2, 0.7 ,0.6])  \n",
    "\n",
    "roc_auc = roc_auc_score(y_true, y_pred_proba)\n",
    "print(\"ROC-AUC:\", roc_auc)"
   ]
  },
  {
   "cell_type": "markdown",
   "id": "b9ff2883-1207-4a1f-af8a-10606c42f41b",
   "metadata": {},
   "source": [
    "### 다중 분류 평가지표"
   ]
  },
  {
   "cell_type": "code",
   "execution_count": 21,
   "id": "05bb138f-0eb1-4ca2-b5b6-e50f3269a2df",
   "metadata": {},
   "outputs": [],
   "source": [
    "# 다중 분류 데이터\n",
    "import pandas as pd\n",
    "\n",
    "y_true = pd.DataFrame([1, 2, 3, 3, 2, 1, 3, 3, 2, 1])  #실제 값\n",
    "y_pred = pd.DataFrame([1, 2, 1, 3, 2, 1, 1, 2, 2 ,1])  #예측 값"
   ]
  },
  {
   "cell_type": "code",
   "execution_count": 23,
   "id": "b8be003f-7344-462b-8195-f1e3826a4ca8",
   "metadata": {},
   "outputs": [
    {
     "name": "stdout",
     "output_type": "stream",
     "text": [
      "정확도: 0.7\n"
     ]
    }
   ],
   "source": [
    "# 정확도(Accuracy) - 전체 데이터 중에서 올바르게 예측된 데이터의 비율 \n",
    "from sklearn.metrics import accuracy_score\n",
    "\n",
    "accuracy = accuracy_score(y_true, y_pred)\n",
    "print(\"정확도:\", accuracy)"
   ]
  },
  {
   "cell_type": "code",
   "execution_count": 25,
   "id": "fe4223d7-afee-4877-a7d1-346579f5f732",
   "metadata": {},
   "outputs": [
    {
     "name": "stdout",
     "output_type": "stream",
     "text": [
      "F1 스코어: 0.669047619047619\n"
     ]
    }
   ],
   "source": [
    "# F1 스코어 - 정밀도와 재현율의 조화 평균으로 불균형 데이터를 평가하는데 유용\n",
    "from sklearn.metrics import f1_score\n",
    "\n",
    "f1 = f1_score(y_true, y_pred, average='macro')\n",
    "print(\"F1 스코어:\", f1)"
   ]
  }
 ],
 "metadata": {
  "kernelspec": {
   "display_name": "Python 3 (ipykernel)",
   "language": "python",
   "name": "python3"
  },
  "language_info": {
   "codemirror_mode": {
    "name": "ipython",
    "version": 3
   },
   "file_extension": ".py",
   "mimetype": "text/x-python",
   "name": "python",
   "nbconvert_exporter": "python",
   "pygments_lexer": "ipython3",
   "version": "3.12.7"
  }
 },
 "nbformat": 4,
 "nbformat_minor": 5
}
