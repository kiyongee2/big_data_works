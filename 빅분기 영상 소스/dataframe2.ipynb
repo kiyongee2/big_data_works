{
 "cells": [
  {
   "cell_type": "code",
   "execution_count": 33,
   "id": "6b0a272c-7b03-4308-9d9d-61ad8c47b948",
   "metadata": {},
   "outputs": [
    {
     "name": "stdout",
     "output_type": "stream",
     "text": [
      "<class 'pandas.core.frame.DataFrame'>\n",
      "RangeIndex: 3 entries, 0 to 2\n",
      "Data columns (total 3 columns):\n",
      " #   Column  Non-Null Count  Dtype  \n",
      "---  ------  --------------  -----  \n",
      " 0   name    3 non-null      object \n",
      " 1   price   2 non-null      float64\n",
      " 2   spec    3 non-null      object \n",
      "dtypes: float64(1), object(2)\n",
      "memory usage: 204.0+ bytes\n"
     ]
    },
    {
     "data": {
      "text/html": [
       "<div>\n",
       "<style scoped>\n",
       "    .dataframe tbody tr th:only-of-type {\n",
       "        vertical-align: middle;\n",
       "    }\n",
       "\n",
       "    .dataframe tbody tr th {\n",
       "        vertical-align: top;\n",
       "    }\n",
       "\n",
       "    .dataframe thead th {\n",
       "        text-align: right;\n",
       "    }\n",
       "</style>\n",
       "<table border=\"1\" class=\"dataframe\">\n",
       "  <thead>\n",
       "    <tr style=\"text-align: right;\">\n",
       "      <th></th>\n",
       "      <th>이름</th>\n",
       "      <th>스펙</th>\n",
       "    </tr>\n",
       "  </thead>\n",
       "  <tbody>\n",
       "    <tr>\n",
       "      <th>count</th>\n",
       "      <td>3</td>\n",
       "      <td>3</td>\n",
       "    </tr>\n",
       "    <tr>\n",
       "      <th>unique</th>\n",
       "      <td>3</td>\n",
       "      <td>3</td>\n",
       "    </tr>\n",
       "    <tr>\n",
       "      <th>top</th>\n",
       "      <td>키보드</td>\n",
       "      <td>유선</td>\n",
       "    </tr>\n",
       "    <tr>\n",
       "      <th>freq</th>\n",
       "      <td>1</td>\n",
       "      <td>1</td>\n",
       "    </tr>\n",
       "  </tbody>\n",
       "</table>\n",
       "</div>"
      ],
      "text/plain": [
       "         이름  스펙\n",
       "count     3   3\n",
       "unique    3   3\n",
       "top     키보드  유선\n",
       "freq      1   1"
      ]
     },
     "execution_count": 33,
     "metadata": {},
     "output_type": "execute_result"
    }
   ],
   "source": [
    "import pandas as pd\n",
    "\n",
    "# 방법1 - 키(칼럼), 밸류(값)\n",
    "df = pd.DataFrame({\n",
    "    \"name\": [\"키보드\", \"마우스\", \"모니터\"],\n",
    "    \"price\": [17000, None, 78000],\n",
    "    \"spec\": [\"유선\", \"무선\", \"22inch\"]\n",
    "})\n",
    "df\n",
    "\n",
    "# 칼럼 검색\n",
    "df[\"name\"]\n",
    "df[[\"name\", \"price\"]]\n",
    "\n",
    "# 데이터 프레임 정보 - info(), float-실수형, object-문자형\n",
    "df.info()\n",
    "\n",
    "# head() - 기본 5개, tail()\n",
    "df.head(2) \n",
    "df.tail(1)\n",
    "\n",
    "# 결측치(null) - NaN(Not a Number)\n",
    "# True-1, False-0\n",
    "df.isnull()\n",
    "df.isnull().sum()\n",
    "\n",
    "# 데이터 통계 요약 - describe() : include=\"number\" (생략가능)\n",
    "df.describe()\n",
    "df.describe(include=\"object\")\n",
    "\n",
    "# 칼럼 이름 변경 - rename()\n",
    "df = df.rename(columns={\"name\": \"이름\", \"price\": \"가격\", \"spec\": \"스펙\"})\n",
    "df"
   ]
  }
 ],
 "metadata": {
  "kernelspec": {
   "display_name": "Python 3 (ipykernel)",
   "language": "python",
   "name": "python3"
  },
  "language_info": {
   "codemirror_mode": {
    "name": "ipython",
    "version": 3
   },
   "file_extension": ".py",
   "mimetype": "text/x-python",
   "name": "python",
   "nbconvert_exporter": "python",
   "pygments_lexer": "ipython3",
   "version": "3.12.4"
  }
 },
 "nbformat": 4,
 "nbformat_minor": 5
}
