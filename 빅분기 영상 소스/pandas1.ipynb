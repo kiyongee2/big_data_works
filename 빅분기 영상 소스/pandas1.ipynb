{
 "cells": [
  {
   "cell_type": "markdown",
   "id": "991a68c0-4286-4f7d-80c7-7dd36154beba",
   "metadata": {},
   "source": [
    "### 판다스(Pandas)\n",
    "#### 파이썬 데이터분석 패키지(모듈) 가장 인기있는 모듈이다.\n",
    "#### 설치 - pip install pandas\n",
    "#### import pandas"
   ]
  },
  {
   "cell_type": "code",
   "execution_count": 2,
   "id": "a85f31f7-d65d-409f-a44b-c7c47a41a407",
   "metadata": {},
   "outputs": [
    {
     "name": "stdout",
     "output_type": "stream",
     "text": [
      "Requirement already satisfied: pandas in c:\\users\\lg\\anaconda3\\lib\\site-packages (2.2.2)\n",
      "Requirement already satisfied: numpy>=1.26.0 in c:\\users\\lg\\anaconda3\\lib\\site-packages (from pandas) (1.26.4)\n",
      "Requirement already satisfied: python-dateutil>=2.8.2 in c:\\users\\lg\\anaconda3\\lib\\site-packages (from pandas) (2.9.0.post0)\n",
      "Requirement already satisfied: pytz>=2020.1 in c:\\users\\lg\\anaconda3\\lib\\site-packages (from pandas) (2024.1)\n",
      "Requirement already satisfied: tzdata>=2022.7 in c:\\users\\lg\\anaconda3\\lib\\site-packages (from pandas) (2023.3)\n",
      "Requirement already satisfied: six>=1.5 in c:\\users\\lg\\anaconda3\\lib\\site-packages (from python-dateutil>=2.8.2->pandas) (1.16.0)\n",
      "Note: you may need to restart the kernel to use updated packages.\n"
     ]
    }
   ],
   "source": [
    "pip install pandas"
   ]
  },
  {
   "cell_type": "markdown",
   "id": "461d3cf5-d8cc-40e6-b7ed-1a7bd85d9ded",
   "metadata": {},
   "source": [
    "#### 시리즈(Series)\n",
    "##### 한개의 칼럼과 인덱스가 짝 형태로 이루어진 클래스이다."
   ]
  },
  {
   "cell_type": "code",
   "execution_count": 13,
   "id": "ec5d3322-3ce4-48cc-8e6e-b9c26ec100bd",
   "metadata": {},
   "outputs": [
    {
     "name": "stdout",
     "output_type": "stream",
     "text": [
      "0     사과\n",
      "1      귤\n",
      "2    바나나\n",
      "dtype: object\n",
      "<class 'pandas.core.series.Series'>\n",
      "0    3000\n",
      "1    1000\n",
      "2    2000\n",
      "dtype: int64\n"
     ]
    }
   ],
   "source": [
    "import pandas\n",
    "\n",
    "series1 = pandas.Series([\"사과\", \"귤\", \"바나나\"])\n",
    "print(series1)\n",
    "print(type(series1))\n",
    "\n",
    "series2 = pandas.Series([3000, 1000, 2000])\n",
    "print(series2)"
   ]
  },
  {
   "cell_type": "markdown",
   "id": "fcc3196c-7acc-42e9-aa7d-71cb4028162e",
   "metadata": {},
   "source": [
    "#### 데이터프레임(DataFrame)\n",
    "##### Series를 결합한 형태이다.\n",
    "##### 행과 열을 가진 2차원 형태이다."
   ]
  },
  {
   "cell_type": "code",
   "execution_count": 20,
   "id": "bcf4da5f-6ac8-4539-990d-6fab66cec790",
   "metadata": {},
   "outputs": [
    {
     "name": "stdout",
     "output_type": "stream",
     "text": [
      "  name  price\n",
      "0   사과   3000\n",
      "1    귤   1000\n",
      "2  바나나   2000\n",
      "<class 'pandas.core.frame.DataFrame'>\n"
     ]
    }
   ],
   "source": [
    "import pandas as pd\n",
    "\n",
    "name = pd.Series([\"사과\", \"귤\", \"바나나\"])\n",
    "price = pandas.Series([3000, 1000, 2000])\n",
    "\n",
    "# 딕셔너리 형태로 데이터프레임을 생성\n",
    "df = pd.DataFrame({\n",
    "    \"name\": name,\n",
    "    \"price\": price\n",
    "})\n",
    "print(df)\n",
    "print(type(df))\n",
    "\n",
    "# csv 파일 생성\n",
    "df.to_csv(\"fruit.csv\")"
   ]
  },
  {
   "cell_type": "code",
   "execution_count": 15,
   "id": "87ac51a0-01a6-42de-9f61-7de78341e897",
   "metadata": {},
   "outputs": [
    {
     "data": {
      "text/html": [
       "<div>\n",
       "<style scoped>\n",
       "    .dataframe tbody tr th:only-of-type {\n",
       "        vertical-align: middle;\n",
       "    }\n",
       "\n",
       "    .dataframe tbody tr th {\n",
       "        vertical-align: top;\n",
       "    }\n",
       "\n",
       "    .dataframe thead th {\n",
       "        text-align: right;\n",
       "    }\n",
       "</style>\n",
       "<table border=\"1\" class=\"dataframe\">\n",
       "  <thead>\n",
       "    <tr style=\"text-align: right;\">\n",
       "      <th></th>\n",
       "      <th>이름</th>\n",
       "      <th>가격</th>\n",
       "      <th>중량(g)</th>\n",
       "    </tr>\n",
       "  </thead>\n",
       "  <tbody>\n",
       "    <tr>\n",
       "      <th>0</th>\n",
       "      <td>사과</td>\n",
       "      <td>3000</td>\n",
       "      <td>100g</td>\n",
       "    </tr>\n",
       "    <tr>\n",
       "      <th>1</th>\n",
       "      <td>귤</td>\n",
       "      <td>1000</td>\n",
       "      <td>100g</td>\n",
       "    </tr>\n",
       "    <tr>\n",
       "      <th>2</th>\n",
       "      <td>바나나</td>\n",
       "      <td>2000</td>\n",
       "      <td>100g</td>\n",
       "    </tr>\n",
       "  </tbody>\n",
       "</table>\n",
       "</div>"
      ],
      "text/plain": [
       "    이름    가격 중량(g)\n",
       "0   사과  3000  100g\n",
       "1    귤  1000  100g\n",
       "2  바나나  2000  100g"
      ]
     },
     "execution_count": 15,
     "metadata": {},
     "output_type": "execute_result"
    }
   ],
   "source": [
    "import pandas as pd\n",
    "\n",
    "# DataFrame을 만드는 방법2\n",
    "data = {\n",
    "    \"name\": [\"사과\", \"귤\", \"바나나\"],\n",
    "    \"price\": [3000, 1000, 2000]\n",
    "}\n",
    "\n",
    "df = pd.DataFrame(data)\n",
    "df\n",
    "\n",
    "# 칼럼 속성 보기\n",
    "df.columns\n",
    "\n",
    "# 새 칼럼 추가\n",
    "df[\"중량(g)\"] = \"100g\"\n",
    "df\n",
    "\n",
    "# 칼럼 이름 변경 - rename()\n",
    "df = df.rename(columns={\"name\": \"이름\", \"price\": \"가격\"})\n",
    "df\n",
    "\n",
    "# csv 파일 저장\n",
    "df.to_csv(\"fruit2.csv\", index=False)\n",
    "\n",
    "# csv 파일 읽기\n",
    "pd.read_csv(\"fruit2.csv\")"
   ]
  },
  {
   "cell_type": "code",
   "execution_count": 53,
   "id": "343f8eca-d1e3-4d49-be28-7158a24b7cf9",
   "metadata": {},
   "outputs": [
    {
     "name": "stdout",
     "output_type": "stream",
     "text": [
      "<class 'pandas.core.frame.DataFrame'>\n",
      "RangeIndex: 7 entries, 0 to 6\n",
      "Data columns (total 3 columns):\n",
      " #   Column  Non-Null Count  Dtype  \n",
      "---  ------  --------------  -----  \n",
      " 0   메뉴      7 non-null      object \n",
      " 1   가격      7 non-null      int64  \n",
      " 2   칼로리     7 non-null      float64\n",
      "dtypes: float64(1), int64(1), object(1)\n",
      "memory usage: 300.0+ bytes\n",
      "                가격         칼로리\n",
      "count     7.000000    7.000000\n",
      "mean   5000.000000   87.142857\n",
      "std     645.497224   87.695360\n",
      "min    4000.000000    0.000000\n",
      "25%    4750.000000   15.000000\n",
      "50%    5000.000000  110.000000\n",
      "75%    5250.000000  110.000000\n",
      "max    6000.000000  250.000000\n",
      "           메뉴\n",
      "count       7\n",
      "unique      7\n",
      "top     아메리카노\n",
      "freq        1\n",
      "<class 'pandas.core.frame.DataFrame'>\n",
      "RangeIndex: 7 entries, 0 to 6\n",
      "Data columns (total 4 columns):\n",
      " #   Column  Non-Null Count  Dtype  \n",
      "---  ------  --------------  -----  \n",
      " 0   메뉴      7 non-null      object \n",
      " 1   가격      7 non-null      int64  \n",
      " 2   칼로리     7 non-null      int32  \n",
      " 3   할인가     7 non-null      float64\n",
      "dtypes: float64(1), int32(1), int64(1), object(1)\n",
      "memory usage: 328.0+ bytes\n"
     ]
    }
   ],
   "source": [
    "# 카페 데이터프레임 생성, 탐색\n",
    "import pandas as pd\n",
    "\n",
    "cafe = pd.DataFrame({\n",
    "    \"메뉴\": ['아메리카노', '카페라떼', '카페모카', '카푸치노', '에스프레소', '허브차', '녹차'],\n",
    "    \"가격\": [4500, 5000, 5500, 5000, 4000, 6000, 5000],\n",
    "    \"칼로리\": [10.0, 110.0, 250.0, 110.0, 20.0, 110.0, 0.0]\n",
    "})\n",
    "cafe\n",
    "\n",
    "# 데이터 정보\n",
    "cafe.info()\n",
    "\n",
    "# 데이터 조회\n",
    "cafe.head()  #5개\n",
    "cafe.tail(3)\n",
    "\n",
    "# 통계 요약 - describe() : 기본적으로 숫자 칼럼 정보가 출력\n",
    "print(cafe.describe(include=\"number\"))\n",
    "print(cafe.describe(include=\"object\"))\n",
    "\n",
    "# 칼럼 추가(파생 칼럼) - 할인가(20% 할인)\n",
    "cafe[\"할인가\"] = cafe[\"가격\"] * 0.8\n",
    "cafe\n",
    "\n",
    "# 자료형 변경 - astype()\n",
    "cafe[\"칼로리\"] = cafe[\"칼로리\"].astype(\"int\")\n",
    "cafe\n",
    "cafe.info()\n",
    "\n",
    "cafe.to_csv(\"cafe.csv\", index=False)"
   ]
  },
  {
   "cell_type": "code",
   "execution_count": 79,
   "id": "ee3aad37-4ba5-4e81-8244-b3d7ed446120",
   "metadata": {
    "scrolled": true
   },
   "outputs": [
    {
     "data": {
      "text/html": [
       "<div>\n",
       "<style scoped>\n",
       "    .dataframe tbody tr th:only-of-type {\n",
       "        vertical-align: middle;\n",
       "    }\n",
       "\n",
       "    .dataframe tbody tr th {\n",
       "        vertical-align: top;\n",
       "    }\n",
       "\n",
       "    .dataframe thead th {\n",
       "        text-align: right;\n",
       "    }\n",
       "</style>\n",
       "<table border=\"1\" class=\"dataframe\">\n",
       "  <thead>\n",
       "    <tr style=\"text-align: right;\">\n",
       "      <th></th>\n",
       "      <th>메뉴</th>\n",
       "      <th>가격</th>\n",
       "      <th>칼로리</th>\n",
       "      <th>할인가</th>\n",
       "    </tr>\n",
       "  </thead>\n",
       "  <tbody>\n",
       "    <tr>\n",
       "      <th>1</th>\n",
       "      <td>카페라떼</td>\n",
       "      <td>5000</td>\n",
       "      <td>110</td>\n",
       "      <td>4000.0</td>\n",
       "    </tr>\n",
       "    <tr>\n",
       "      <th>2</th>\n",
       "      <td>카페모카</td>\n",
       "      <td>5500</td>\n",
       "      <td>250</td>\n",
       "      <td>4400.0</td>\n",
       "    </tr>\n",
       "    <tr>\n",
       "      <th>3</th>\n",
       "      <td>카푸치노</td>\n",
       "      <td>5000</td>\n",
       "      <td>110</td>\n",
       "      <td>4000.0</td>\n",
       "    </tr>\n",
       "    <tr>\n",
       "      <th>5</th>\n",
       "      <td>허브차</td>\n",
       "      <td>6000</td>\n",
       "      <td>110</td>\n",
       "      <td>4800.0</td>\n",
       "    </tr>\n",
       "    <tr>\n",
       "      <th>6</th>\n",
       "      <td>녹차</td>\n",
       "      <td>5000</td>\n",
       "      <td>0</td>\n",
       "      <td>4000.0</td>\n",
       "    </tr>\n",
       "  </tbody>\n",
       "</table>\n",
       "</div>"
      ],
      "text/plain": [
       "     메뉴    가격  칼로리     할인가\n",
       "1  카페라떼  5000  110  4000.0\n",
       "2  카페모카  5500  250  4400.0\n",
       "3  카푸치노  5000  110  4000.0\n",
       "5   허브차  6000  110  4800.0\n",
       "6    녹차  5000    0  4000.0"
      ]
     },
     "execution_count": 79,
     "metadata": {},
     "output_type": "execute_result"
    }
   ],
   "source": [
    "import pandas as pd\n",
    "\n",
    "# csv 파일 읽기 - read_csv()\n",
    "df = pd.read_csv(\"cafe.csv\")\n",
    "df\n",
    "\n",
    "# 칼럼명 검색\n",
    "df[\"메뉴\"]\n",
    "df[[\"메뉴\", \"가격\"]]\n",
    "\n",
    "# 조건에 따른 검색\n",
    "# '가격' 5000원 이상인 데이터 출력\n",
    "df[df['가격'] >= 5000]\n",
    "\n",
    "# '메뉴'가 아메리카노인 데이터 검색\n",
    "df[df['메뉴'] == '아메리카노']\n",
    "\n",
    "# '가격' 5000원 이상이고, '칼로리'가 150이상인 데이터\n",
    "# & - 두 조건을 동시에 만족할때 사용, | - 두조건중 하나만 충족되어도 되는 경우\n",
    "df[(df['가격'] >= 5000) & (df['칼로리'] >= 150)]\n",
    "\n",
    "result1 = df['가격'] >= 5000\n",
    "result2 = df['칼로리'] >= 150\n",
    "df[ result1 | result2 ]"
   ]
  },
  {
   "cell_type": "code",
   "execution_count": 99,
   "id": "d5fec050-7173-4712-9b84-acd95cce7f5b",
   "metadata": {},
   "outputs": [
    {
     "name": "stdout",
     "output_type": "stream",
     "text": [
      "      메뉴    가격  칼로리     할인가\n",
      "0  아메리카노  4500   10  3600.0\n",
      "1   카페라떼  5000  110  4000.0\n",
      "2   카페모카  5500  250  4400.0\n",
      "3   카푸치노  5000  110  4000.0\n",
      "4  에스프레소  4000   20  3200.0\n",
      "5    허브차  6000  110  4800.0\n",
      "6     녹차  5000    0  4000.0\n",
      "0    4500\n",
      "1    5000\n",
      "2    5500\n",
      "3    5000\n",
      "4    4000\n",
      "5    6000\n",
      "6    5000\n",
      "Name: 가격, dtype: int64\n",
      "1    카페라떼\n",
      "2    카페모카\n",
      "Name: 메뉴, dtype: object\n",
      "0    4500\n",
      "1    5000\n",
      "2    5500\n",
      "3    5000\n",
      "4    4000\n",
      "5    6000\n",
      "6    5000\n",
      "Name: 가격, dtype: int64\n"
     ]
    }
   ],
   "source": [
    "# loc(행, 열-칼럼명) 속성\n",
    "print(df)\n",
    "\n",
    "# print(df.loc[2, \"메뉴\"])\n",
    "# print(df.loc[1:3, \"메뉴\"])\n",
    "print(df.loc[:, \"가격\"])\n",
    "# df.loc[:, [\"메뉴\", \"가격\"]]\n",
    "\n",
    "# iloc(행, 열-인덱스) 속성\n",
    "# print(df.iloc[2, 0])\n",
    "print(df.iloc[1:3, 0])\n",
    "print(df.iloc[:, 1])"
   ]
  },
  {
   "cell_type": "code",
   "execution_count": 3,
   "id": "410a5f5e-9215-4b7e-ad31-c255585967f6",
   "metadata": {},
   "outputs": [
    {
     "name": "stdout",
     "output_type": "stream",
     "text": [
      "     A    B    C\n",
      "0  1.0  4.0  7.0\n",
      "1  NaN  5.0  NaN\n",
      "2  3.0  NaN  9.0\n",
      "     A    B\n",
      "0  1.0  4.0\n",
      "1  NaN  5.0\n",
      "2  3.0  NaN\n"
     ]
    }
   ],
   "source": [
    "# 결측치 - 데이터가 누락되었거나, 자료형이 다른 경우 등의 문제가 있는 데이터\n",
    "# 결측치 삭제 - dropna(), drop()\n",
    "import pandas as pd\n",
    "\n",
    "df = pd.DataFrame({\n",
    "    'A': [1, None, 3],\n",
    "    'B': [4, 5, None],\n",
    "    'C': [7, None, 9]\n",
    "})\n",
    "print(df)\n",
    "\n",
    "# 전체 행에서 NaN - Not a Number을 삭제\n",
    "# axis=0 -> 행, axis = 1 -> 열\n",
    "# df = df.dropna(axis=0)\n",
    "# print(df)\n",
    "\n",
    "# 특정 칼럼(열)에 있는 NaN을 삭제\n",
    "# df = df.dropna(subset=['A'], axis=0)\n",
    "# print(df)\n",
    "\n",
    "# drop()을 사용해서 'C'열 삭제\n",
    "df = df.drop('C', axis=1)\n",
    "print(df)"
   ]
  }
 ],
 "metadata": {
  "kernelspec": {
   "display_name": "Python 3 (ipykernel)",
   "language": "python",
   "name": "python3"
  },
  "language_info": {
   "codemirror_mode": {
    "name": "ipython",
    "version": 3
   },
   "file_extension": ".py",
   "mimetype": "text/x-python",
   "name": "python",
   "nbconvert_exporter": "python",
   "pygments_lexer": "ipython3",
   "version": "3.12.4"
  }
 },
 "nbformat": 4,
 "nbformat_minor": 5
}
