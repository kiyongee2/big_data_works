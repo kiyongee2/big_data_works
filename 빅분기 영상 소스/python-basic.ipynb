{
 "cells": [
  {
   "cell_type": "code",
   "execution_count": 1,
   "id": "4045e6e9-00e4-4b54-acf9-4ca076883799",
   "metadata": {},
   "outputs": [
    {
     "name": "stdout",
     "output_type": "stream",
     "text": [
      "안녕하세요\n"
     ]
    }
   ],
   "source": [
    "print(\"안녕하세요\")"
   ]
  },
  {
   "cell_type": "code",
   "execution_count": 3,
   "id": "a311e69a-8242-4549-8e11-02df03dc0486",
   "metadata": {},
   "outputs": [
    {
     "ename": "NameError",
     "evalue": "name '안녕' is not defined",
     "output_type": "error",
     "traceback": [
      "\u001b[1;31m---------------------------------------------------------------------------\u001b[0m",
      "\u001b[1;31mNameError\u001b[0m                                 Traceback (most recent call last)",
      "Cell \u001b[1;32mIn[3], line 1\u001b[0m\n\u001b[1;32m----> 1\u001b[0m \u001b[38;5;28mprint\u001b[39m(\u001b[43m안녕\u001b[49m)\n",
      "\u001b[1;31mNameError\u001b[0m: name '안녕' is not defined"
     ]
    }
   ],
   "source": [
    "print(안녕)"
   ]
  },
  {
   "cell_type": "code",
   "execution_count": 11,
   "id": "2dc24899-0659-4390-8851-dd8a2667c98b",
   "metadata": {},
   "outputs": [
    {
     "name": "stdout",
     "output_type": "stream",
     "text": [
      "김기용\n",
      "100\n",
      "100.5\n",
      "21\n",
      "-1\n",
      "110\n",
      "0.9090909090909091\n"
     ]
    }
   ],
   "source": [
    "print('김기용')\n",
    "print(100)\n",
    "print(100.5)\n",
    "\n",
    "# 산술연산\n",
    "print(10 + 11)\n",
    "print(10 - 11)\n",
    "print(10 * 11)\n",
    "print(10 / 11)"
   ]
  },
  {
   "cell_type": "markdown",
   "id": "be3828c2-a993-4f95-915d-c0a077b30c19",
   "metadata": {},
   "source": [
    "#### 변수와 자료형"
   ]
  },
  {
   "cell_type": "code",
   "execution_count": 7,
   "id": "96cc9a2f-8fff-4993-8a56-f67ab6660d35",
   "metadata": {},
   "outputs": [
    {
     "ename": "SyntaxError",
     "evalue": "invalid syntax (3819555231.py, line 24)",
     "output_type": "error",
     "traceback": [
      "\u001b[1;36m  Cell \u001b[1;32mIn[7], line 24\u001b[1;36m\u001b[0m\n\u001b[1;33m    과일 3 = \"apple\"\u001b[0m\n\u001b[1;37m       ^\u001b[0m\n\u001b[1;31mSyntaxError\u001b[0m\u001b[1;31m:\u001b[0m invalid syntax\n"
     ]
    }
   ],
   "source": [
    "# 변수\n",
    "# 메모리에 할당된 공간으로 값을 저장하는 것으로 1개의 값만 저장\n",
    "a = 12\n",
    "b = 11\n",
    "print(a + b)\n",
    "\n",
    "season = \"겨울\"\n",
    "print(season)\n",
    "\n",
    "# 자료형 - 숫자(int), 문자(str)\n",
    "print(type(a))\n",
    "print(type(season))\n",
    "\n",
    "# 변수의 이름 작명시 주의\n",
    "# 문법 오류 - 숫자로 시작할수 없음, 공백 문자를 사용할 수 없음\n",
    "과일 = \"귤\"\n",
    "print(과일)\n",
    "\n",
    "과일2 = \"바나나\"\n",
    "print(과일2)\n",
    "\n",
    "# 2과일 = \"감\"\n",
    "# print(2과일)\n",
    "\n",
    "과일 3 = \"apple\"\n",
    "print(과일 3)"
   ]
  },
  {
   "cell_type": "code",
   "execution_count": 21,
   "id": "884b3b16-6c79-47ee-bbf4-1dd3576c7f09",
   "metadata": {},
   "outputs": [
    {
     "name": "stdout",
     "output_type": "stream",
     "text": [
      "['봄', '여름', '가을', '겨울']\n",
      "<class 'list'>\n",
      "봄\n",
      "가을\n",
      "겨울\n",
      "겨울\n"
     ]
    }
   ],
   "source": [
    "# 자료형 - 숫자(정수, 실수), 문자, 불리언(True/False), 리스트(list)\n",
    "# 리스트 - 메모리의 할당된 특정 변수(리스트)에 여러 개의 자료를 저장할 수 있음\n",
    "# 리스트 생성시 - 대괄호([]), 값은 쉼표로 구분\n",
    "seasons = [\"봄\", \"여름\", \"가을\", \"겨울\"]\n",
    "print(seasons)\n",
    "print(type(seasons))\n",
    "\n",
    "# 특정 값을 접근(출력)할때 인덱스(위치)를 사용\n",
    "# 인덱스는 0번 부터 시작하고, 맨 마지막은 -1로 사용함\n",
    "print(seasons[0])\n",
    "print(seasons[2])\n",
    "print(seasons[3])\n",
    "print(seasons[-1])"
   ]
  },
  {
   "cell_type": "markdown",
   "id": "ea51fdeb-7d4b-4775-8d0e-6f0cbe12d632",
   "metadata": {},
   "source": [
    "#### 조건문(if문)"
   ]
  },
  {
   "cell_type": "code",
   "execution_count": 44,
   "id": "877f50ee-bee5-4250-8ffd-6d602a84bdcd",
   "metadata": {},
   "outputs": [
    {
     "name": "stdout",
     "output_type": "stream",
     "text": [
      "True\n",
      "False\n",
      "False\n",
      "True\n",
      "True\n",
      "False\n",
      "False\n",
      "True\n",
      "False\n"
     ]
    }
   ],
   "source": [
    "# 조건문 - 참(True) / 거짓(False)을 결과로 출력\n",
    "# 변수 선언\n",
    "# n1 = 10\n",
    "# n2 = 11\n",
    "n1, n2 = 10, 11\n",
    "\n",
    "# 비교 연산자 - >, >=, <, <=, ==, !=\n",
    "print(n1 < n2)\n",
    "print(n1 > n2)\n",
    "print(n1 == n2)\n",
    "print(n1 != n2)\n",
    "\n",
    "# 문자 비교\n",
    "str1, str2, str3 = \"빅데이터\", \"빅데이터\", \"머신러닝\"\n",
    "print(str1 == str2)\n",
    "print(str1 == str3)\n",
    "\n",
    "# 조건문이 2개 이상 - 논리 연산\n",
    "# 논리 연산자 - and, or, not\n",
    "# and - 두 조건이 모두 참일때 참이다.\n",
    "# or - 두 조건중 하나만 참이어도 참이다\n",
    "# not - 한 조건이 참이면 거짓이고, 거짓이면 참이다.\n",
    "print((n1 < n2) and (str1 == str3))  # True and False -> False\n",
    "print((n1 < n2) or (str1 == str3))   # True or False -> True\n",
    "print(not (n1 < n2)) # not True -> False"
   ]
  },
  {
   "cell_type": "code",
   "execution_count": 58,
   "id": "4c9c7ff3-5167-4c64-938e-fdccde06f0ad",
   "metadata": {},
   "outputs": [
    {
     "name": "stdout",
     "output_type": "stream",
     "text": [
      "관람가\n",
      "관람불가\n",
      "F\n"
     ]
    }
   ],
   "source": [
    "# if문 - 조건이 True일때만 실행\n",
    "# if 조건:\n",
    "#    실행문(4칸 들여쓰기)\n",
    "\n",
    "# 조건 - 이 영화는 15세이상 관람가이다.\n",
    "age = 16\n",
    "if age >= 15:\n",
    "    print(\"관람가\")\n",
    "\n",
    "# if ~ else문 - 조건이 True이면 실행1, 조건이 False이면 실행2\n",
    "age = 14\n",
    "if age >= 15:\n",
    "    print(\"관람가\")\n",
    "else:\n",
    "    print(\"관람불가\")\n",
    "\n",
    "# 다중 if -> if ~ elif ~ else문\n",
    "# 조건 : 점수가 90이상이면 A, 점수가 80이상이면 B, \n",
    "#       점수가 70이상이면 C, 아니면 F를 출력\n",
    "점수 = 69\n",
    "\n",
    "if 점수 >= 90:\n",
    "    print(\"A\")\n",
    "elif 점수 >= 80:\n",
    "    print(\"B\")\n",
    "elif 점수 >= 70:\n",
    "    print(\"C\")\n",
    "else:\n",
    "    print(\"F\")"
   ]
  },
  {
   "cell_type": "markdown",
   "id": "5386aad7-d435-4189-beb9-4d8a41551b8c",
   "metadata": {},
   "source": [
    "#### 반복문(while, for문)"
   ]
  },
  {
   "cell_type": "code",
   "execution_count": 12,
   "id": "54c91bad-8bb3-4ea5-8711-842a872c0aad",
   "metadata": {},
   "outputs": [
    {
     "name": "stdout",
     "output_type": "stream",
     "text": [
      "1\n",
      "2\n",
      "3\n",
      "4\n",
      "5\n",
      "6\n",
      "7\n",
      "8\n",
      "9\n",
      "10\n"
     ]
    }
   ],
   "source": [
    "\"\"\"\n",
    "초기값\n",
    "while 조건(종료값):\n",
    "    실행문\n",
    "    증감값\n",
    "\"\"\"\n",
    "\n",
    "# 1부터 10까지 자연수 출력\n",
    "i = 0\n",
    "while i < 10:\n",
    "    i = i + 1\n",
    "    # print(i)\n",
    "\n",
    "# print(i)\n",
    "# while ~ if(반복조건문) break\n",
    "i = 0\n",
    "while True:\n",
    "    i = i + 1\n",
    "    if i > 10:\n",
    "        break\n",
    "    print(i)"
   ]
  },
  {
   "cell_type": "code",
   "execution_count": 32,
   "id": "47d5fe73-6fc6-4a26-93aa-6224aa7a1198",
   "metadata": {},
   "outputs": [
    {
     "name": "stdout",
     "output_type": "stream",
     "text": [
      "range(0, 10)\n",
      "[0, 1, 2, 3, 4, 5, 6, 7, 8, 9]\n",
      "[1, 2, 3, 4, 5, 6, 7, 8, 9, 10]\n",
      "1\n",
      "2\n",
      "3\n",
      "4\n",
      "5\n",
      "6\n",
      "7\n",
      "8\n",
      "9\n",
      "10\n",
      "True\n",
      "False\n",
      "apple\n",
      "banana\n",
      "grape\n"
     ]
    }
   ],
   "source": [
    "\"\"\"\n",
    "for i in range(초기값, 종료값, 증감값):\n",
    "    실행문\n",
    "    \n",
    "for i in 리스트:\n",
    "    실행문\n",
    "\n",
    "초기값과 증감값은 생략 가능\n",
    "\"\"\"\n",
    "\n",
    "print(range(10))\n",
    "\n",
    "a = range(10)\n",
    "print(list(a))\n",
    "\n",
    "b = range(1, 11, 1)\n",
    "print(list(b))\n",
    "\n",
    "for i in range(1, 11):\n",
    "    print(i)\n",
    "\n",
    "# for ~ in 리스트\n",
    "fruits = [\"apple\", \"banana\", \"grape\"]\n",
    "print(\"apple\" in fruits)\n",
    "print(\"strawberry\" in fruits)\n",
    "\n",
    "for fruit in fruits:\n",
    "    print(fruit)"
   ]
  }
 ],
 "metadata": {
  "kernelspec": {
   "display_name": "Python 3 (ipykernel)",
   "language": "python",
   "name": "python3"
  },
  "language_info": {
   "codemirror_mode": {
    "name": "ipython",
    "version": 3
   },
   "file_extension": ".py",
   "mimetype": "text/x-python",
   "name": "python",
   "nbconvert_exporter": "python",
   "pygments_lexer": "ipython3",
   "version": "3.12.4"
  }
 },
 "nbformat": 4,
 "nbformat_minor": 5
}
