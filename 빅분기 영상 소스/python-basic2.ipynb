{
 "cells": [
  {
   "cell_type": "markdown",
   "id": "96608739-3108-49a7-a59c-67864e1ee518",
   "metadata": {},
   "source": [
    "#### 함수(Function)\n",
    "##### 어떤 특정한 기능을 수행하는 프로그램인데 다른 프로그램이 호출하여 사용한다.\n",
    "##### 예) print() - 함수의 형태는 함수이름(), 괄호안에 변수를 사용하여 값을 전달할 수 있다."
   ]
  },
  {
   "cell_type": "code",
   "execution_count": 32,
   "id": "2f65bdef-684f-46bc-859f-b9973a8cf80b",
   "metadata": {},
   "outputs": [
    {
     "name": "stdout",
     "output_type": "stream",
     "text": [
      "개수: 4\n",
      "합계: 22\n",
      "최대값: 10\n",
      "최소값: 2\n",
      "평균: 5.5\n",
      "2.55\n",
      "2.5\n",
      "3\n",
      "빅데이터 분석기사 파이썬 공부\n",
      "빅데이터 분석기사 파이썬 스터디\n",
      "['2024', '11', '11']\n",
      "2024년 11월 11일 \n",
      "2024년 11월 11일\n"
     ]
    }
   ],
   "source": [
    "# 1. 내장함수  2. 사용자 정의 함수\n",
    "# len() - 요소의 개수, sum(), max(), min(), count()\n",
    "\n",
    "number = [4, 2, 10, 6]\n",
    "\n",
    "print(\"개수:\", len(number))\n",
    "print(\"합계:\", sum(number))\n",
    "print(\"최대값:\", max(number))\n",
    "print(\"최소값:\", min(number))\n",
    "\n",
    "# 평균 = 합계 / 개수\n",
    "avg = sum(number) / len(number)\n",
    "print(\"평균:\", avg)\n",
    "\n",
    "# 반올림 - round(숫자, 자리수)\n",
    "print(round(2.5472, 2))\n",
    "print(round(2.5472, 1))\n",
    "print(round(2.5472))\n",
    "\n",
    "# 문자열 함수 - replace(변경전 문자, 변경후 문자), split(구분기호)\n",
    "text = \"빅데이터 분석기사 파이썬 공부\"\n",
    "print(text)\n",
    "text = text.replace(\"공부\", \"스터디\")\n",
    "print(text)\n",
    "\n",
    "date = \"2024-11-11\"\n",
    "date = date.split('-')\n",
    "print(date)  # 리스트\n",
    "print(date[0] + \"년 \" + date[1] + \"월 \" + date[2] + \"일 \")\n",
    "# f포맷 방식 \n",
    "print(f\"{date[0]}년 {date[1]}월 {date[2]}일\")"
   ]
  },
  {
   "cell_type": "code",
   "execution_count": 50,
   "id": "62dc2586-ac05-4fe7-a567-9959a7464f74",
   "metadata": {},
   "outputs": [
    {
     "name": "stdout",
     "output_type": "stream",
     "text": [
      "안녕\n",
      "안녕~ Jerry\n",
      "안녕~ 한강\n",
      "16\n",
      "9\n"
     ]
    }
   ],
   "source": [
    "\"\"\"\n",
    "사용자 정의 함수\n",
    "def 함수이름():\n",
    "    실행문\n",
    "\n",
    "def 함수이름():\n",
    "    return 변수\n",
    "\"\"\"\n",
    "\n",
    "def hello():\n",
    "    print(\"안녕\")\n",
    "\n",
    "# 매개변수가 있는 함수\n",
    "def hello2(name):\n",
    "    print(\"안녕~ \" + name)\n",
    "\n",
    "# 호출\n",
    "hello()\n",
    "hello2(\"Jerry\")\n",
    "hello2(\"한강\")\n",
    "\n",
    "# 리턴(return) 이 있는 함수\n",
    "def square(x):\n",
    "    return x * x\n",
    "\n",
    "def add(x, y):\n",
    "    return x + y\n",
    "\n",
    "# 제곱수 호출\n",
    "val = square(4)\n",
    "print(val)\n",
    "\n",
    "# 더하기 호출\n",
    "val2 = add(4, 5)\n",
    "print(val2)"
   ]
  },
  {
   "cell_type": "markdown",
   "id": "36e97472-1c1d-4e55-aa8a-1370271e7b79",
   "metadata": {},
   "source": [
    "#### 딕셔너리(Dictionary)\n",
    "##### 키(key)와 값(value)의 쌍으로 이루어짐\n",
    "##### 키를 사용 검색해서 값에 접근, 순서가 없다."
   ]
  },
  {
   "cell_type": "code",
   "execution_count": 73,
   "id": "69105775-f2d1-4aac-ad69-094c8aac03ca",
   "metadata": {},
   "outputs": [
    {
     "name": "stdout",
     "output_type": "stream",
     "text": [
      "<class 'dict'>\n",
      "{'name': '쿠키', 'level': 5}\n",
      "dict_keys(['name', 'level'])\n",
      "dict_values(['쿠키', 5])\n",
      "쿠키\n",
      "5\n",
      "{'name': '쿠키', 'level': 5, 'id': 'sky'}\n",
      "{'name': '제리', 'level': 5, 'id': 'sky'}\n",
      "{'name': '제리', 'id': 'sky'}\n"
     ]
    }
   ],
   "source": [
    "# {}- 중괄호 사용\n",
    "dictbox = {\n",
    "    \"name\": \"쿠키\",\n",
    "    \"level\": 5\n",
    "}\n",
    "\n",
    "print(type(dictbox))\n",
    "print(dictbox)\n",
    "\n",
    "# 모든 키\n",
    "print(dictbox.keys())\n",
    "# 모든 값\n",
    "print(dictbox.values())\n",
    "\n",
    "# 값 조회\n",
    "print(dictbox[\"name\"])\n",
    "print(dictbox[\"level\"])\n",
    "\n",
    "# 값(요소) 추가\n",
    "dictbox['id'] = \"sky\"\n",
    "print(dictbox)\n",
    "\n",
    "# 값 변경\n",
    "dictbox[\"name\"] = \"제리\"\n",
    "print(dictbox)\n",
    "\n",
    "# 값 삭제\n",
    "del dictbox['level']\n",
    "print(dictbox)"
   ]
  },
  {
   "cell_type": "code",
   "execution_count": 83,
   "id": "a536ad31-9bd4-464a-a53f-75d5b5f8854a",
   "metadata": {},
   "outputs": [
    {
     "name": "stdout",
     "output_type": "stream",
     "text": [
      "{'요리': ['한식', '중식', '분식'], '점포수': [4, 5, 2]}\n",
      "한식\n",
      "4\n"
     ]
    }
   ],
   "source": [
    "# 딕셔너리(키의 값이 여러개 - 리스트)\n",
    "cook = [\"한식\", \"중식\", \"분식\"]\n",
    "number = [4, 5, 2]\n",
    "\n",
    "store = {\n",
    "    \"요리\": cook,\n",
    "    \"점포수\": number\n",
    "}\n",
    "print(store)\n",
    "\n",
    "# \"한식\"에 접근\n",
    "print(store[\"요리\"][0])\n",
    "print(store[\"점포수\"][0])"
   ]
  },
  {
   "cell_type": "markdown",
   "id": "25e53da8-95c9-4e1b-bfb1-2fbc62b93b0b",
   "metadata": {},
   "source": [
    "#### 튜플(Tuple)\n",
    "##### 여러 개의 자료를 저장하는 자료형\n",
    "##### 소괄호()를 사용하고, 수정이나 삭제가 안됨"
   ]
  },
  {
   "cell_type": "code",
   "execution_count": 100,
   "id": "22192d05-6440-47ed-bad7-a636b93f19bf",
   "metadata": {},
   "outputs": [
    {
     "name": "stdout",
     "output_type": "stream",
     "text": [
      "(1, 2, 3)\n",
      "<class 'tuple'>\n",
      "1\n",
      "3\n",
      "(4,)\n",
      "<class 'tuple'>\n"
     ]
    }
   ],
   "source": [
    "# 튜플\n",
    "a = (1, 2, 3)\n",
    "print(a)\n",
    "print(type(a))\n",
    "\n",
    "# 조회 가능\n",
    "print(a[0])\n",
    "print(a[-1])\n",
    "\n",
    "# 수정 불가\n",
    "# a[1] = 4\n",
    "\n",
    "# 값이 1개 일때 반드시 쉼표를 추가함\n",
    "b = (4, )\n",
    "print(b)\n",
    "print(type(b))"
   ]
  },
  {
   "cell_type": "code",
   "execution_count": 116,
   "id": "d49e041e-280c-42d8-92b6-ec9ad00162f6",
   "metadata": {},
   "outputs": [
    {
     "name": "stdout",
     "output_type": "stream",
     "text": [
      "5\n",
      "[1, 5, 4]\n",
      "[1, 5, 4]\n",
      "[5, 4]\n",
      "[1, 5, 4]\n",
      "[1, 5, 4, 3]\n",
      "[1, 5, 4, 3, 2]\n",
      "[1, 5, 4, 3]\n"
     ]
    }
   ],
   "source": [
    "# 리스트 인덱싱과 슬라이싱(범위)\n",
    "# 슬라이싱할때 범위 뒤에서 1을 뺌\n",
    "number = [1, 5, 4, 3]\n",
    "print(number[1])\n",
    "print(number[0:3])\n",
    "print(number[:3])\n",
    "\n",
    "print(number[1:3])\n",
    "print(number[:-1])\n",
    "print(number[:])\n",
    "\n",
    "# 리스트 추가(맨뒤에서 추가) - append()\n",
    "number.append(2)\n",
    "print(number)\n",
    "\n",
    "# 리스트 삭제 - pop()\n",
    "number.pop()\n",
    "print(number)"
   ]
  },
  {
   "cell_type": "markdown",
   "id": "545c7def-3c4e-4298-b30a-d804b9b87ae8",
   "metadata": {},
   "source": [
    "### 모듈(Module)\n",
    "#### 유용한 파이썬 파일(변수, 함수, 클래스)이다\n",
    "#### 다른 프로그램에서 불러와서 사용하면 모듈이 된다.\n",
    "#### 방식1 - import 모듈\n",
    "#### 방식2 - from 모듈 import 함수, 클래스"
   ]
  },
  {
   "cell_type": "code",
   "execution_count": 130,
   "id": "8a6175d0-0a78-45ee-a081-8cfe5bb46733",
   "metadata": {},
   "outputs": [
    {
     "name": "stdout",
     "output_type": "stream",
     "text": [
      "2024-12-13\n",
      "2024\n",
      "12\n",
      "13\n",
      "2024-12-13 10:14:21.025816\n",
      "2024\n",
      "12\n",
      "13\n",
      "10\n",
      "14\n",
      "21\n"
     ]
    }
   ],
   "source": [
    "# 날짜와 시간 - datetime\n",
    "import datetime\n",
    "\n",
    "# 날짜\n",
    "today = datetime.date.today()\n",
    "print(today)\n",
    "print(today.year)\n",
    "print(today.month)\n",
    "print(today.day)\n",
    "\n",
    "# 날짜와 시간\n",
    "now = datetime.datetime.today()\n",
    "print(now)\n",
    "print(now.year)\n",
    "print(now.month)\n",
    "print(now.day)\n",
    "\n",
    "print(now.hour)\n",
    "print(now.minute)\n",
    "print(now.second)"
   ]
  },
  {
   "cell_type": "code",
   "execution_count": 136,
   "id": "2f67303d-6507-4ba9-a15f-f87f031d9525",
   "metadata": {},
   "outputs": [
    {
     "name": "stdout",
     "output_type": "stream",
     "text": [
      "2024-12-13 10:16:29.927164\n",
      "2024-12-13\n"
     ]
    }
   ],
   "source": [
    "# from 모듈(상위) import 모듈, 모듈\n",
    "from datetime import datetime, date\n",
    "\n",
    "# 날짜와 시간\n",
    "now = datetime.today()\n",
    "print(now)\n",
    "\n",
    "# 날짜\n",
    "today = date.today()\n",
    "print(today)"
   ]
  },
  {
   "cell_type": "code",
   "execution_count": 148,
   "id": "53488b21-ae79-41b3-8002-f0ad3e68903e",
   "metadata": {},
   "outputs": [
    {
     "name": "stdout",
     "output_type": "stream",
     "text": [
      "원의 넓이: 50.265\n",
      "5\n",
      "6\n"
     ]
    }
   ],
   "source": [
    "# 수학\n",
    "import math\n",
    "\n",
    "# 원주율\n",
    "math.pi\n",
    "\n",
    "# 원의 넓이 = 원주율 * 반지름 * 반지름\n",
    "radius = 4\n",
    "area = math.pi * radius * radius\n",
    "print(f'원의 넓이: {round(area, 3)}')\n",
    "\n",
    "# 버림(내림) - math.floor()\n",
    "print(math.floor(5.9)) \n",
    "\n",
    "# 올림 - math.ceil()\n",
    "print(math.ceil(5.1))"
   ]
  },
  {
   "cell_type": "markdown",
   "id": "4971181b-e223-47e0-be29-1ed76fbf7cc3",
   "metadata": {},
   "source": [
    "### 클래스(class)\n",
    "#### 사물을 추상화한 객체 (복합)자료형이다.\n",
    "#### 객체에 대한 속성과 기능을 코드로 구현한 것이다.\n",
    "#### 예) 자동차(속성-브랜드, 연식, 색상... 기능-주행한다. 멈춘다. 주유한다)\n",
    "#### 형태 : class 클래스이름:\n",
    "#### 사용 : 인스턴스(오브젝트) 생성"
   ]
  },
  {
   "cell_type": "code",
   "execution_count": 160,
   "id": "f85f7581-cd5b-4a1e-be8d-523f5cc2dfb2",
   "metadata": {},
   "outputs": [
    {
     "name": "stdout",
     "output_type": "stream",
     "text": [
      "이름 : 한강\n",
      "학년 : 3\n"
     ]
    }
   ],
   "source": [
    "# 학생(Student) 클래스 생성(정의)\n",
    "class Student:\n",
    "    # 생성자\n",
    "    def __init__(self):\n",
    "        self.name = \"한강\"\n",
    "        self.grade = 3\n",
    "\n",
    "# 클래스 사용\n",
    "s = Student()\n",
    "print(\"이름 :\", s.name)\n",
    "print(\"학년 :\", s.grade)"
   ]
  },
  {
   "cell_type": "code",
   "execution_count": 166,
   "id": "e235271c-7752-4eaa-aa1c-d88f7ed0373a",
   "metadata": {},
   "outputs": [
    {
     "name": "stdout",
     "output_type": "stream",
     "text": [
      "이름: 한강, 학년: 3\n",
      "이름: 북한산, 학년: 1\n"
     ]
    }
   ],
   "source": [
    "# 학생 클래스(멤버변수, 메서드(함수))\n",
    "class Student:\n",
    "    def __init__(self, name, grade):\n",
    "        self.name = name\n",
    "        self.grade = grade\n",
    "\n",
    "    def show_info(self):\n",
    "        return f\"이름: {self.name}, 학년: {self.grade}\"\n",
    "\n",
    "# 클래스 사용 - 인스턴스 생성(메모리에 적재)\n",
    "s1 = Student(\"한강\", 3)\n",
    "print(s1.show_info())\n",
    "\n",
    "s2 = Student(\"북한산\", 1)\n",
    "print(s2.show_info())"
   ]
  }
 ],
 "metadata": {
  "kernelspec": {
   "display_name": "Python 3 (ipykernel)",
   "language": "python",
   "name": "python3"
  },
  "language_info": {
   "codemirror_mode": {
    "name": "ipython",
    "version": 3
   },
   "file_extension": ".py",
   "mimetype": "text/x-python",
   "name": "python",
   "nbconvert_exporter": "python",
   "pygments_lexer": "ipython3",
   "version": "3.12.4"
  }
 },
 "nbformat": 4,
 "nbformat_minor": 5
}
