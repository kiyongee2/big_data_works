{
 "cells": [
  {
   "cell_type": "markdown",
   "id": "2d532a51-68fc-4f3d-955f-0cfbf3bf9bec",
   "metadata": {},
   "source": [
    "#### 단일 표본 검정"
   ]
  },
  {
   "cell_type": "code",
   "execution_count": 20,
   "id": "3fdcb6b1-26da-4916-aed6-c5fc7d022b55",
   "metadata": {},
   "outputs": [
    {
     "name": "stdout",
     "output_type": "stream",
     "text": [
      "TtestResult(statistic=2.1155384372682344, pvalue=0.043092957066609296, df=29)\n",
      "검정 통계량: 2.1155384372682344\n",
      "p-value: 0.043092957066609296\n"
     ]
    }
   ],
   "source": [
    "\"\"\"\n",
    "# 어떤 집단의 평균이 특정 값과 유의미하게 다른 지를 검정하는 통계 방법\n",
    "# t-test(t 검정) : 유의 수준(0.05)보다 작으면 유의미하다.\n",
    "# scipy 라이브러리 - stats.ttest_1samp(데이터, 모집단평균, alternative)\n",
    "# 예제 - 영화관에서 판매하는 팝콘의 무게가 평균적으로 120g 인지 검정\n",
    "  - 귀무가설: 팝콘 라지 사이즈의 평균 무게는 120g이다.\n",
    "  - 대립가설: 팝콘 라지 사이즈의 평균 무게는 120g이 아니다.\n",
    "\"\"\"\n",
    "import pandas as pd\n",
    "from scipy import stats\n",
    "\n",
    "df = pd.DataFrame({\n",
    "    'weights':[122, 121, 120, 119, 125, 115, 121, 118, 117, 127,\n",
    "           123, 129, 119, 124, 114, 126, 122, 124, 121, 116,\n",
    "           120, 123, 127, 118, 122, 117, 124, 125, 123, 121],\n",
    "})\n",
    "df\n",
    "\n",
    "# print(df['weights'].mean())\n",
    "print(stats.ttest_1samp(df['weights'], 120))\n",
    "# result = stats.ttest_1samp(df['weights'], 120)\n",
    "# print(\"검정 통계량:\", result.statistic)\n",
    "# print(\"p-value:\", result.pvalue)\n",
    "# print(\"귀무가설 기각\")\n",
    "\n",
    "t_statistic, p_value = stats.ttest_1samp(df['weights'], 120)\n",
    "print(\"검정 통계량:\", t_statistic)\n",
    "print(\"p-value:\", p_value)"
   ]
  },
  {
   "cell_type": "markdown",
   "id": "7d40bf5c-55cc-42e4-86e9-7c0597e0cfee",
   "metadata": {},
   "source": [
    "#### 대응 표본 검정(Paired sample t-test)"
   ]
  },
  {
   "cell_type": "code",
   "execution_count": 34,
   "id": "e183d072-25ec-4831-b65c-5174d828f5bc",
   "metadata": {},
   "outputs": [
    {
     "name": "stdout",
     "output_type": "stream",
     "text": [
      "0.56\n",
      "검정 통계량: -2.2127749675452324\n",
      "p-value: 0.03127028733756238\n",
      "귀무가설 기각, 대립가설 채택\n"
     ]
    }
   ],
   "source": [
    "\"\"\"\n",
    "# 동일한 집단(그룹)에 대해 시간차를 두고 두 번의 측정 결과를 비교\n",
    "# stats.ttest_rel(a 표본데이터, b, alternative)\n",
    "# 예제 - 어떤 기업이 새로운 교육 프로그램을 도입해 교육 전과 후의 성과 검정\n",
    "  - 귀무가설 : 새로운 교육프로그램은 효과가 없다.\n",
    "  - 대립가설 : 새로운 교육프로그램은 효과가 있다.\n",
    "\"\"\"\n",
    "\n",
    "import pandas as pd\n",
    "\n",
    "df = pd.DataFrame({\n",
    "    'before':[85, 90, 92, 88, 86, 89, 83, 87],\n",
    "    'after':[85.5,89.9,92.6,89.5,85.8,88.8,84.6,87.8]\n",
    "})\n",
    "\n",
    "# 표본 평균\n",
    "df['diff'] = df['after'] - df['before']\n",
    "d_mean = df['diff'].mean()\n",
    "print(round(d_mean, 2))\n",
    "\n",
    "# 단측 검정\n",
    "t_statistic, p_value = stats.ttest_rel(df['before'], df['after'], alternative='less')\n",
    "# t_statistic, p_value = stats.ttest_rel(df['after'], df['before'], alternative='greater')\n",
    "print(\"검정 통계량:\", t_statistic)\n",
    "print(\"p-value:\", p_value)\n",
    "print(\"귀무가설 기각, 대립가설 채택\")"
   ]
  },
  {
   "cell_type": "markdown",
   "id": "d0af35d6-c430-41ff-b567-9d90fd045a58",
   "metadata": {},
   "source": [
    "#### 독립 표본 검정(Independent sample t-test)"
   ]
  },
  {
   "cell_type": "code",
   "execution_count": 45,
   "id": "0342c827-20ab-48eb-9e15-46d426da4a86",
   "metadata": {},
   "outputs": [
    {
     "name": "stdout",
     "output_type": "stream",
     "text": [
      "검정 통계량: 2.2108140580092237\n",
      "p-value: 0.04914857789252186\n",
      "귀무가설 기각, 대립가설 채택\n",
      "검정 통계량: 2.1818699281825236\n",
      "p-value: 0.059589330071355334\n",
      "귀무가설을 기각하지 못함\n"
     ]
    }
   ],
   "source": [
    "\"\"\"\n",
    "# 두 집단간의 평균이 서로 다름을 판단하는 통계 방법\n",
    "# stats.ttest_ind(a 표본데이터, b, alternative, equal_var)\n",
    "# 예제 - 어느 학교의 반별 수학 시험 평균 점수가 차이가 있는지 검정\n",
    "  - 귀무가설: 반별 수학 평균 점수는 다르다.\n",
    "  - 대립가설: 반별 수학 평균 점수는 같다.\n",
    "\"\"\"\n",
    "\n",
    "import pandas as pd\n",
    "from scipy import stats\n",
    "\n",
    "class1 = [85, 90, 92, 88, 86, 89, 83, 87]\n",
    "class2 = [80, 82, 88, 85, 84]\n",
    "\n",
    "# 모집단의 분산이 같은 경우\n",
    "t_statistic, p_value = stats.ttest_ind(class1, class2, equal_var=True)\n",
    "print(\"검정 통계량:\", t_statistic)\n",
    "print(\"p-value:\", p_value)\n",
    "print(\"귀무가설 기각, 대립가설 채택\")\n",
    "\n",
    "# 모집단의 분산이 다른 경우\n",
    "t_statistic, p_value = stats.ttest_ind(class1, class2, equal_var=False)\n",
    "print(\"검정 통계량:\", t_statistic)\n",
    "print(\"p-value:\", p_value)\n",
    "print(\"귀무가설을 기각하지 못함\")"
   ]
  },
  {
   "cell_type": "markdown",
   "id": "1271c0b9-2f31-4cfd-8f11-fb335c875a60",
   "metadata": {},
   "source": [
    "#### 카이제곱 검정(Chi-square test)\n",
    "##### 범주형 데이터의 관찰된 비도와 기대된 빈도를 비교하여 두 변수간의\n",
    "##### 독립성이나 분포의 적합성을 검증하는 방법\n",
    "##### 주요 유형은 적합도 검정, 독립성 검정, 동질성 검정이 있음"
   ]
  },
  {
   "cell_type": "code",
   "execution_count": 68,
   "id": "04334d68-1972-4b9e-8354-4af0922c0577",
   "metadata": {},
   "outputs": [
    {
     "name": "stdout",
     "output_type": "stream",
     "text": [
      "Power_divergenceResult(statistic=7.142857142857142, pvalue=0.007526315166457885)\n",
      "검정 통계량: 7.142857142857142\n",
      "p-value: 0.007526315166457885\n",
      "귀무가설 기각\n"
     ]
    }
   ],
   "source": [
    "\"\"\"\n",
    "# 적합도 검정\n",
    "# 1개의 범주형 변수가 특정 분포를 잘 따르고 있는지 검정\n",
    "# 예제 - 어느 도시의 아이스크림 맛(바닐라, 초코, 딸기) 선호도를 조사\n",
    "  - 귀무가설: 이 도시의 아이스크림 맛 선호도는 전국적인 선호도와 다르다.\n",
    "  - 대립가설: 이 도시의 아이스크림 맛 선호도는 전국적인 선호도와 동일하다.\n",
    "# stats.chisquare(observed(관측빈도), expected(기대빈도), ddof(자유도), axis(축))\n",
    "\"\"\"\n",
    "\n",
    "from scipy import stats\n",
    "\n",
    "observed = [150, 120, 30]\n",
    "expected = [0.5*300, 0.35*300, 0.15*300]  #비율\n",
    "\n",
    "result = stats.chisquare(observed, expected, ddof=1)\n",
    "# help(stats.chisquare)\n",
    "print(result)\n",
    "print(\"검정 통계량:\", result.statistic)\n",
    "print(\"p-value:\", result.pvalue)\n",
    "print(\"귀무가설 기각\")"
   ]
  },
  {
   "cell_type": "code",
   "execution_count": 102,
   "id": "fb85273e-a985-4183-84ed-8cf399104dd2",
   "metadata": {},
   "outputs": [
    {
     "name": "stdout",
     "output_type": "stream",
     "text": [
      "    좋아함  좋아하지 않음\n",
      "남자   80       30\n",
      "여자   90       10\n",
      "검정 통계량: 9.045792112299468\n",
      "p-value: 0.0026330012530379632\n",
      "귀무가설 기각\n"
     ]
    }
   ],
   "source": [
    "\"\"\"\n",
    "# 독립성 검정 - 2개의 변수가 서로 독립적인지, 연관이 있는지 검정\n",
    "# stats.chi2_contingency(데이터프레임)\n",
    "# 예제 - 성별에 따라 운동을 좋아하는지 조사(성별과 선호도가 독립적인지 가설검정)\n",
    " - 귀무가설: 성별과 운동 선호도는 독립적이다.\n",
    " - 대립가설: 성별과 운동 선호도는 독립적이지 않다.\n",
    "\"\"\"\n",
    "import pandas as pd\n",
    "from scipy.stats import chi2_contingency\n",
    "\n",
    "# 데이터 생성(열방향)\n",
    "# df = pd.DataFrame({\n",
    "#     \"좋아함\": [80, 30],\n",
    "#     \"좋아하지 않음\": [90, 10],\n",
    "# }, index=[\"남자\", \"여자\"])\n",
    "# df\n",
    "\n",
    "# 데이터 프레임(행방향)\n",
    "df = pd.DataFrame([[80, 30], [90, 10]],\n",
    "                 columns=[\"좋아함\", \"좋아하지 않음\"],\n",
    "                 index=[\"남자\", \"여자\"])\n",
    "print(df)\n",
    "\n",
    "# 독립성 검정\n",
    "# print(chi2_contingency(df))\n",
    "# help(chi2_contingency)\n",
    "result = chi2_contingency(df)\n",
    "print(\"검정 통계량:\", result.statistic)\n",
    "print(\"p-value:\", result.pvalue)\n",
    "print(\"귀무가설 기각\")"
   ]
  },
  {
   "cell_type": "code",
   "execution_count": 120,
   "id": "19013581-97b2-416b-a121-04888c2f3e48",
   "metadata": {},
   "outputs": [
    {
     "name": "stdout",
     "output_type": "stream",
     "text": [
      "운동  좋아하지 않음  좋아함\n",
      "성별              \n",
      "남자       30   80\n",
      "여자       10   90\n",
      "Chi2ContingencyResult(statistic=9.045792112299468, pvalue=0.0026330012530379632, dof=1, expected_freq=array([[20.95238095, 89.04761905],\n",
      "       [19.04761905, 80.95238095]]))\n",
      "검정 통계량: 9.045792112299468\n",
      "p-value: 0.0026330012530379632\n",
      "귀무가설 기각\n"
     ]
    }
   ],
   "source": [
    "# 변수 - '성별', '운동'\n",
    "import pandas as pd\n",
    "from scipy.stats import chi2_contingency\n",
    "\n",
    "data = {\n",
    "    \"성별\": ['남자'] * 110 + ['여자'] * 100,\n",
    "    \"운동\": ['좋아함'] * 80 + ['좋아하지 않음'] * 30 +\n",
    "            ['좋아함'] * 90 + ['좋아하지 않음'] * 10\n",
    "}\n",
    "df = pd.DataFrame(data)\n",
    "# df\n",
    "\n",
    "# 표 형태 - pd.crosstab(변수1, 변수2)\n",
    "table = pd.crosstab(df['성별'], df['운동'])\n",
    "print(table)\n",
    "\n",
    "result = chi2_contingency(table)\n",
    "print(result)\n",
    "print(\"검정 통계량:\", result.statistic)\n",
    "print(\"p-value:\", result.pvalue)\n",
    "print(\"귀무가설 기각\")"
   ]
  }
 ],
 "metadata": {
  "kernelspec": {
   "display_name": "Python 3 (ipykernel)",
   "language": "python",
   "name": "python3"
  },
  "language_info": {
   "codemirror_mode": {
    "name": "ipython",
    "version": 3
   },
   "file_extension": ".py",
   "mimetype": "text/x-python",
   "name": "python",
   "nbconvert_exporter": "python",
   "pygments_lexer": "ipython3",
   "version": "3.12.7"
  }
 },
 "nbformat": 4,
 "nbformat_minor": 5
}
