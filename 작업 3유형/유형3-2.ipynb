{
 "cells": [
  {
   "cell_type": "markdown",
   "id": "f6ba1ce3-a249-4c2c-8719-e43eec4090f2",
   "metadata": {},
   "source": [
    "#### 회귀 분석"
   ]
  },
  {
   "cell_type": "code",
   "execution_count": 12,
   "id": "00c94a18-86bc-45d3-b763-94a48f12eb7c",
   "metadata": {},
   "outputs": [
    {
     "name": "stdout",
     "output_type": "stream",
     "text": [
      "            키       몸무게\n",
      "키    1.000000  0.919509\n",
      "몸무게  0.919509  1.000000\n",
      "0.9195090879163765\n",
      "0.9195090879163765\n"
     ]
    }
   ],
   "source": [
    "\"\"\"\n",
    "회귀 분석은 수치형 변수 간의 관계 또는 원인과 결과 관계를 예측하는데 사용\n",
    "상관 계수 - 변수간의 강도와 방향을 측정하는 계수로 두 변수 간의 선형적인 관계가 \n",
    "어느정도 강한지를 나타냄.\n",
    "\n",
    "\"\"\"\n",
    "import pandas as pd\n",
    "\n",
    "data = {\n",
    "    \"키\": [150, 160, 170, 175, 165],\n",
    "    \"몸무게\": [42, 50, 70, 64, 56]\n",
    "}\n",
    "df = pd.DataFrame(data)\n",
    "df\n",
    "\n",
    "# 상관 계수 (피어슨) - method=\"pearson\"(생략)\n",
    "correlation = df.corr()\n",
    "print(correlation)\n",
    "\n",
    "print(df[\"키\"].corr(df[\"몸무게\"]))\n",
    "print(df[\"몸무게\"].corr(df[\"키\"]))"
   ]
  },
  {
   "cell_type": "markdown",
   "id": "2fd92322-91ce-4c8e-b8fb-3af72c495ef0",
   "metadata": {},
   "source": [
    "#### 선형 회귀 분석(단순선형, 다중 선형)"
   ]
  },
  {
   "cell_type": "code",
   "execution_count": 57,
   "id": "17d6867a-d389-4fe5-8aba-6f712fe2cf71",
   "metadata": {},
   "outputs": [
    {
     "name": "stdout",
     "output_type": "stream",
     "text": [
      "                            OLS Regression Results                            \n",
      "==============================================================================\n",
      "Dep. Variable:                      키   R-squared:                       0.892\n",
      "Model:                            OLS   Adj. R-squared:                  0.886\n",
      "Method:                 Least Squares   F-statistic:                     148.0\n",
      "Date:                Mon, 18 Nov 2024   Prob (F-statistic):           4.04e-10\n",
      "Time:                        17:48:27   Log-Likelihood:                -45.761\n",
      "No. Observations:                  20   AIC:                             95.52\n",
      "Df Residuals:                      18   BIC:                             97.51\n",
      "Df Model:                           1                                         \n",
      "Covariance Type:            nonrobust                                         \n",
      "==============================================================================\n",
      "                 coef    std err          t      P>|t|      [0.025      0.975]\n",
      "------------------------------------------------------------------------------\n",
      "Intercept    115.0676      4.158     27.671      0.000     106.331     123.804\n",
      "몸무게            0.8658      0.071     12.167      0.000       0.716       1.015\n",
      "==============================================================================\n",
      "Omnibus:                        0.985   Durbin-Watson:                   2.609\n",
      "Prob(Omnibus):                  0.611   Jarque-Bera (JB):                0.336\n",
      "Skew:                          -0.315   Prob(JB):                        0.845\n",
      "Kurtosis:                       3.082   Cond. No.                         432.\n",
      "==============================================================================\n",
      "\n",
      "Notes:\n",
      "[1] Standard Errors assume that the covariance matrix of the errors is correctly specified.\n",
      "결정계수: 0.8915914350087263\n",
      "회귀계수:  Intercept    115.067639\n",
      "몸무게            0.865844\n",
      "dtype: float64\n",
      "기울기:  0.8658438852380215\n",
      "절편:  115.06763904471848\n",
      "p-value:  4.0379325599303186e-10\n",
      "p-value: 0.0000000004\n",
      "113.74226638884433\n",
      "MSE: 5.687113319442217\n",
      "0    177.408399\n",
      "dtype: float64\n"
     ]
    }
   ],
   "source": [
    "\"\"\"\n",
    "# 단순 선형 회귀\n",
    "# 독립변수 1개와 종속 변수 1개로 이루어짐\n",
    "# 키가 몸무게에 미치는 영향을 분석해서 회귀 모델 구축\n",
    "# statsmodels.formula.api\n",
    "# '~' 독립변수 ~ 종속변수 \n",
    "\"\"\"\n",
    "import pandas as pd\n",
    "\n",
    "data = {\n",
    "    '키': [150, 160, 170, 175, 165, 155, 172, 168, 174, 158,\n",
    "          162, 173, 156, 159, 167, 163, 171, 169, 176, 161],\n",
    "    '몸무게': [42, 50, 70, 64, 56, 48, 68, 60, 65, 52,\n",
    "            54, 67, 49, 51, 58, 55, 69, 61, 66, 53]\n",
    "}\n",
    "df = pd.DataFrame(data)\n",
    "df\n",
    "\n",
    "from statsmodels.formula.api import ols\n",
    "\n",
    "# formula - \"키 ~ 몸무게\"\n",
    "model = ols(\"키 ~ 몸무게\", data=df).fit()\n",
    "print(model.summary())\n",
    "# help(ols)\n",
    "# 결정 계수 - 모델이 그 데이터를 얼마나 잘 설명하느냐를 나타내는 통계값\n",
    "# 1에 가까울 수록 잘 설명함(R2)\n",
    "print(\"결정계수:\", model.rsquared)\n",
    "\n",
    "# 회귀 계수 - y=ax + b(a:기울기, b:y절편), y= 0.86x + 115\n",
    "print(\"회귀계수: \", model.params)\n",
    "print(\"기울기: \", model.params['몸무게'])\n",
    "print(\"절편: \", model.params[\"Intercept\"])\n",
    "print(\"p-value: \", model.pvalues[\"몸무게\"]) #지수표기법\n",
    "print(f\"p-value: {model.pvalues[\"몸무게\"]:.10f}\") #일반 표기법\n",
    "\n",
    "# 평가 지표 - mse(평균제곱오차), mae(평균절대값오차), rmse(평균제곱근오차)\n",
    "# 잔차 = 실제값-예측값\n",
    "df['잔차'] = df['키'] - model.predict(df)\n",
    "df\n",
    "# 잔차 제곱합\n",
    "print((df['잔차']**2).sum())\n",
    "\n",
    "# MSE(평균 제곱 오차)\n",
    "df['잔차'] = df['키'] - model.predict(df)\n",
    "mse = (df['잔차']**2).mean()\n",
    "print(\"MSE:\", mse)\n",
    "\n",
    "# 몸무게가 67일때 키를 예측\n",
    "new_df = pd.DataFrame({\"몸무게\": [72]})\n",
    "result = model.predict(new_df)\n",
    "print(result)\n",
    "# print(round(result[0], 1))"
   ]
  }
 ],
 "metadata": {
  "kernelspec": {
   "display_name": "Python 3 (ipykernel)",
   "language": "python",
   "name": "python3"
  },
  "language_info": {
   "codemirror_mode": {
    "name": "ipython",
    "version": 3
   },
   "file_extension": ".py",
   "mimetype": "text/x-python",
   "name": "python",
   "nbconvert_exporter": "python",
   "pygments_lexer": "ipython3",
   "version": "3.12.7"
  }
 },
 "nbformat": 4,
 "nbformat_minor": 5
}
